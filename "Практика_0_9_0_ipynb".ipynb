{
  "nbformat": 4,
  "nbformat_minor": 0,
  "metadata": {
    "colab": {
      "provenance": [],
      "include_colab_link": true
    },
    "kernelspec": {
      "name": "python3",
      "display_name": "Python 3"
    },
    "language_info": {
      "name": "python"
    }
  },
  "cells": [
    {
      "cell_type": "markdown",
      "metadata": {
        "id": "view-in-github",
        "colab_type": "text"
      },
      "source": [
        "<a href=\"https://colab.research.google.com/github/pofack06/practices/blob/main/%22%D0%9F%D1%80%D0%B0%D0%BA%D1%82%D0%B8%D0%BA%D0%B0_0_9_0_ipynb%22.ipynb\" target=\"_parent\"><img src=\"https://colab.research.google.com/assets/colab-badge.svg\" alt=\"Open In Colab\"/></a>"
      ]
    },
    {
      "cell_type": "code",
      "source": [],
      "metadata": {
        "id": "w95Fe4jPTL5F"
      },
      "execution_count": null,
      "outputs": []
    },
    {
      "cell_type": "markdown",
      "source": [
        "ФИО"
      ],
      "metadata": {
        "id": "8hJfL9b2l439"
      }
    },
    {
      "cell_type": "code",
      "source": [
        "Непеин Артемий Игоревич"
      ],
      "metadata": {
        "id": "wRnqvYOkl6EX"
      },
      "execution_count": null,
      "outputs": []
    },
    {
      "cell_type": "markdown",
      "source": [
        "# Дисклеймер"
      ],
      "metadata": {
        "id": "weOtPwPQmgpD"
      }
    },
    {
      "cell_type": "markdown",
      "source": [
        "В данной практике вам необходимо применить все ваши знания по темам:\n",
        "\n",
        "- Функции\n",
        "- Словари\n",
        "- Списки\n",
        "- Множества\n",
        "- Условные конструкции\n",
        "- Запросы\n",
        "\n",
        "и все что было изучено на прошлых практических занятиях\n",
        "\n",
        "В каждом задании кратко описаны функции, которые необходимо реализовать, детали реализации вы должны продумать самостоятельно"
      ],
      "metadata": {
        "id": "LznB3uscmjDa"
      }
    },
    {
      "cell_type": "markdown",
      "source": [
        "# Задание 0"
      ],
      "metadata": {
        "id": "7nSJIqkTvC_C"
      }
    },
    {
      "cell_type": "markdown",
      "source": [
        "Создайте функцию по нахождению уникальных элементов из двух списков\n",
        "\n",
        "\n",
        "\n",
        "```\n",
        "a = [1, 2, 3, 4]\n",
        "b = [3, 4, 5, 6]\n",
        "```\n",
        "\n"
      ],
      "metadata": {
        "id": "exACjTiVvGUe"
      }
    },
    {
      "cell_type": "code",
      "source": [
        "a = [1, 2, 3, 4]\n",
        "b = [3, 4, 5, 6]\n",
        "\n",
        "def unique_elements(a, b):\n",
        "  return list(set(a+b))\n",
        "\n",
        "\n",
        "unique_elements(a, b)"
      ],
      "metadata": {
        "id": "dQheNSYd4nd2",
        "colab": {
          "base_uri": "https://localhost:8080/"
        },
        "outputId": "a6ef3a74-b09b-45a7-e1be-eeae08ebdf88"
      },
      "execution_count": null,
      "outputs": [
        {
          "output_type": "execute_result",
          "data": {
            "text/plain": [
              "[1, 2, 3, 4, 5, 6]"
            ]
          },
          "metadata": {},
          "execution_count": 2
        }
      ]
    },
    {
      "cell_type": "markdown",
      "source": [
        "# Задание 1"
      ],
      "metadata": {
        "id": "SVWNlBALpCNo"
      }
    },
    {
      "cell_type": "markdown",
      "source": [
        "Симулятор виртуального питомца\n",
        "\n",
        "Цель: создать виртуальный симулятор домашних животных, в котором пользователи смогут заводить питомцев и ухаживать за ними.\n",
        "\n",
        "Требования:\n",
        "\n",
        "- Функция для усыновления питомца (имя, тип, возраст).\n",
        "- Функция для того, чтобы покормить питомца, поиграть с ним или уложить его спать.\n",
        "- Функция для отображения состояния питомца (голод, радость, энергия)."
      ],
      "metadata": {
        "id": "RcKA-VEqpC7f"
      }
    },
    {
      "cell_type": "code",
      "source": [
        "class Pet:\n",
        "    def __init__(self, name, pet_type, age):\n",
        "        self.name = name\n",
        "        self.pet_type = pet_type\n",
        "        self.age = age\n",
        "        self.hunger = 100\n",
        "        self.happiness = 100\n",
        "        self.energy = 100\n",
        "\n",
        "\n",
        "        def play(self):\n",
        "          if self.happiness < 100 and self.energy>0:\n",
        "            self.happiness+=10\n",
        "            self.energy-=10\n",
        "            print(f\"Вы успешно поиграли со своим петомцем. Уровень счастья: {self.happiness}, энергия: {self.energy}\")\n",
        "\n",
        "\n",
        "        def sleep(self):\n",
        "          self.energy = 100\n",
        "          print(f\"{self.name} спит и восстанавливает энергию!\")\n",
        "\n",
        "\n",
        "        def feed(self):\n",
        "          if self.hunger < 100:\n",
        "              self.hunger += 10\n",
        "              print(f\"{self.name} покормлен! Уровень голода: {self.hunger}\")\n",
        "          else:\n",
        "              print(f\"{self.name} не голоден!\")\n",
        "\n",
        "\n",
        "        def status(self):\n",
        "          print(f\"Состояние {self.name}:\")\n",
        "          print(f\"Голод: {self.hunger}, Радость: {self.happiness}, Энергия: {self.energy}\")\n",
        "\n",
        "\n",
        "def adopt_pet(name, pet_type, age):\n",
        "    return Pet(name, pet_type, age)\n",
        "\n",
        "my_pet = adopt_pet(\"Бобик\", \"Собака\", 2)\n",
        "def main():\n",
        "  print('Что вы хотите сделать?\\n')\n",
        "  print('Добавить питомца\\n')\n",
        "  print('Узнать показателя питомца\\n')\n",
        "  print('Положить спать\\n')\n",
        "  print('Поиграть\\n')\n",
        "  print('Накормить\\n')\n",
        "  choose = input().lower()\n",
        "  if choose == 'Добавить питомца':\n",
        "    name = input('введите имя')\n",
        "    type_ = input('введите вид')\n",
        "    old = input('введите возраст')\n",
        "    adopt_pet(name, type_, old)\n",
        "  if choose == 'Узнать показателя питомца':\n",
        "    my_pet.status()\n",
        "  if choose == 'Положить спать':\n",
        "    my_pet.sleep()\n",
        "  if choose == 'Поиграть':\n",
        "    my_pet.play()\n",
        "  if choose == 'Накормить':\n",
        "    my_pet.feed()\n",
        "main()\n"
      ],
      "metadata": {
        "id": "hE7mF-HXpJLO",
        "colab": {
          "base_uri": "https://localhost:8080/"
        },
        "outputId": "70b22e5c-435d-4b06-fa0b-951991da67e6"
      },
      "execution_count": null,
      "outputs": [
        {
          "name": "stdout",
          "output_type": "stream",
          "text": [
            "Что вы хотите сделать?\n",
            "\n",
            "Добавить питомца\n",
            "\n",
            "Узнать показателя питомца\n",
            "\n",
            "Положить спать\n",
            "\n",
            "Поиграть\n",
            "\n",
            "Накормить\n",
            "\n",
            "Накормить\n"
          ]
        }
      ]
    },
    {
      "cell_type": "markdown",
      "source": [
        "# Задание 2"
      ],
      "metadata": {
        "id": "qZ7qFQnmssNd"
      }
    },
    {
      "cell_type": "markdown",
      "source": [
        "Рыцарь и дракон\n",
        "\n",
        "Цель: создать небольшую игру, в которой вам необходимо играть за рыцаря и сразиться с драконом\n",
        "\n",
        "Требования:\n",
        "\n",
        "- Создание персонажа (имя, информация о доспехах, оружии, урон, здоровье)\n",
        "- Управление персонажем и мини сюжет\n",
        "- Создание дракона (Имя, информация о здоровье и уроне)\n",
        "- Боевая система (нанесение и получение урона, урон должен быть случайным в заданном диапазоне)\n",
        "- Реализовать бой между драконом и рыцарем"
      ],
      "metadata": {
        "id": "UaccTe7ltNvg"
      }
    },
    {
      "cell_type": "code",
      "source": [
        "import random\n",
        "\n",
        "class Character:\n",
        "    def __init__(self, name, armor, weapon, health):\n",
        "        self.name = name\n",
        "        self.armor = armor\n",
        "        self.weapon = weapon\n",
        "        self.health = health\n",
        "\n",
        "\n",
        "    def attack(self):\n",
        "        damage = random.randint(self.weapon['min_damage'], self.weapon['max_damage'])\n",
        "        print(f\"{self.name} атакует и наносит {damage} урона!\")\n",
        "        return damage\n",
        "\n",
        "\n",
        "    def take_damage(self, damage):\n",
        "        damage_taken = max(0, damage - self.armor)\n",
        "        self.health -= damage_taken\n",
        "        print(f\"{self.name} получает {damage_taken} урона! Осталось здоровья: {self.health}\")\n",
        "\n",
        "\n",
        "    def is_alive(self):\n",
        "        return self.health > 0\n",
        "\n",
        "\n",
        "class Dragon:\n",
        "    def __init__(self, name, health, min_damage, max_damage):\n",
        "        self.name = name\n",
        "        self.health = health\n",
        "        self.min_damage = min_damage\n",
        "        self.max_damage = max_damage\n",
        "\n",
        "\n",
        "    def attack(self):\n",
        "        damage = random.randint(self.min_damage, self.max_damage)\n",
        "        print(f\"{self.name} атакует и наносит {damage} урона!\")\n",
        "        return damage\n",
        "\n",
        "\n",
        "    def take_damage(self, damage):\n",
        "        self.health -= damage\n",
        "        print(f\"{self.name} получает {damage} урона! Осталось здоровья: {self.health}\")\n",
        "\n",
        "\n",
        "def game_intro():\n",
        "    print(\"Добро пожаловать в игру 'Рыцарь и Дракон'!\")\n",
        "    knight_name = input(\"Введите имя вашего рыцаря: \")\n",
        "    knight_armor = int(input(\"Введите уровень доспехов вашего рыцаря: \"))\n",
        "    knight_weapon = {\n",
        "        'name': input(\"Введите название оружия: \"),\n",
        "        'min_damage': int(input(\"Введите минимальный урон: \")),\n",
        "        'max_damage': int(input(\"Введите максимальный урон: \"))\n",
        "    }\n",
        "    knight_health = 100\n",
        "    return Character(knight_name, knight_armor, knight_weapon, knight_health)\n",
        "\n",
        "\n",
        "def battle(knight, dragon):\n",
        "    print(f\"n{knight.name} сражается с драконом {dragon.name}!\")\n",
        "\n",
        "    while knight.is_alive() and dragon.health > 0:\n",
        "\n",
        "        dragon.take_damage(knight.attack())\n",
        "\n",
        "        if dragon.health <= 0:\n",
        "            print(f\"{dragon.name} повержен! {knight.name} победил!\")\n",
        "            break\n",
        "\n",
        "\n",
        "        knight.take_damage(dragon.attack())\n",
        "\n",
        "        if not knight.is_alive():\n",
        "            print(f\"{knight.name} пал в бою! Дракон победил.\")\n",
        "\n",
        "def main():\n",
        "    knight = game_intro()\n",
        "\n",
        "\n",
        "    dragon_name = \"Дракон\"\n",
        "    dragon_health = 100\n",
        "    dragon_min_damage = 10\n",
        "    dragon_max_damage = 20\n",
        "    dragon = Dragon(dragon_name, dragon_health, dragon_min_damage, dragon_max_damage)\n",
        "\n",
        "    battle(knight, dragon)\n",
        "\n",
        "main()\n"
      ],
      "metadata": {
        "id": "LCcxp5Q0srjY",
        "colab": {
          "base_uri": "https://localhost:8080/"
        },
        "outputId": "acf113d8-a0e1-49a1-b92b-98fe33203fc3"
      },
      "execution_count": null,
      "outputs": [
        {
          "output_type": "stream",
          "name": "stdout",
          "text": [
            "Добро пожаловать в игру 'Рыцарь и Дракон'!\n",
            "Введите имя вашего рыцаря: макс\n",
            "Введите уровень доспехов вашего рыцаря: 5\n",
            "Введите название оружия: меч\n",
            "Введите минимальный урон: 1\n",
            "Введите максимальный урон: 10\n",
            "nмакс сражается с драконом Дракон!\n",
            "макс атакует и наносит 1 урона!\n",
            "Дракон получает 1 урона! Осталось здоровья: 99\n",
            "Дракон атакует и наносит 17 урона!\n",
            "макс получает 12 урона! Осталось здоровья: 88\n",
            "макс атакует и наносит 5 урона!\n",
            "Дракон получает 5 урона! Осталось здоровья: 94\n",
            "Дракон атакует и наносит 14 урона!\n",
            "макс получает 9 урона! Осталось здоровья: 79\n",
            "макс атакует и наносит 7 урона!\n",
            "Дракон получает 7 урона! Осталось здоровья: 87\n",
            "Дракон атакует и наносит 18 урона!\n",
            "макс получает 13 урона! Осталось здоровья: 66\n",
            "макс атакует и наносит 5 урона!\n",
            "Дракон получает 5 урона! Осталось здоровья: 82\n",
            "Дракон атакует и наносит 16 урона!\n",
            "макс получает 11 урона! Осталось здоровья: 55\n",
            "макс атакует и наносит 2 урона!\n",
            "Дракон получает 2 урона! Осталось здоровья: 80\n",
            "Дракон атакует и наносит 17 урона!\n",
            "макс получает 12 урона! Осталось здоровья: 43\n",
            "макс атакует и наносит 8 урона!\n",
            "Дракон получает 8 урона! Осталось здоровья: 72\n",
            "Дракон атакует и наносит 16 урона!\n",
            "макс получает 11 урона! Осталось здоровья: 32\n",
            "макс атакует и наносит 8 урона!\n",
            "Дракон получает 8 урона! Осталось здоровья: 64\n",
            "Дракон атакует и наносит 11 урона!\n",
            "макс получает 6 урона! Осталось здоровья: 26\n",
            "макс атакует и наносит 1 урона!\n",
            "Дракон получает 1 урона! Осталось здоровья: 63\n",
            "Дракон атакует и наносит 16 урона!\n",
            "макс получает 11 урона! Осталось здоровья: 15\n",
            "макс атакует и наносит 7 урона!\n",
            "Дракон получает 7 урона! Осталось здоровья: 56\n",
            "Дракон атакует и наносит 17 урона!\n",
            "макс получает 12 урона! Осталось здоровья: 3\n",
            "макс атакует и наносит 4 урона!\n",
            "Дракон получает 4 урона! Осталось здоровья: 52\n",
            "Дракон атакует и наносит 12 урона!\n",
            "макс получает 7 урона! Осталось здоровья: -4\n",
            "макс пал в бою! Дракон победил.\n"
          ]
        }
      ]
    },
    {
      "cell_type": "markdown",
      "source": [
        "# Задание 3\n"
      ],
      "metadata": {
        "id": "N8oFiEXol3e2"
      }
    },
    {
      "cell_type": "markdown",
      "source": [
        "Цель - создать менеджера команды Pokémon, который позволит пользователям:\n",
        "\n",
        "- Добавлять покемонов в свою команду. (если такого покемона еще нет в команде)\n",
        "- Удалять покемонов из их команды.\n",
        "- Просматривать подробную информацию обо всех покемонах в команде.\n",
        "- Находить покемона по имени.\n",
        "- Устраивать тренировочный бой между двумя покемонами\n",
        "\n",
        "Для данной задачи используйте: https://pokeapi.co/\n"
      ],
      "metadata": {
        "id": "9p4WQG_Vl7wB"
      }
    },
    {
      "cell_type": "code",
      "source": [],
      "metadata": {
        "id": "pTqN7I7TgN6Z"
      },
      "execution_count": null,
      "outputs": []
    }
  ]
}