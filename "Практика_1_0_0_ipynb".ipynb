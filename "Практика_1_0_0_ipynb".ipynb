{
  "nbformat": 4,
  "nbformat_minor": 0,
  "metadata": {
    "colab": {
      "provenance": [],
      "include_colab_link": true
    },
    "kernelspec": {
      "name": "python3",
      "display_name": "Python 3"
    },
    "language_info": {
      "name": "python"
    }
  },
  "cells": [
    {
      "cell_type": "markdown",
      "metadata": {
        "id": "view-in-github",
        "colab_type": "text"
      },
      "source": [
        "<a href=\"https://colab.research.google.com/github/pofack06/practices/blob/main/%22%D0%9F%D1%80%D0%B0%D0%BA%D1%82%D0%B8%D0%BA%D0%B0_1_0_0_ipynb%22.ipynb\" target=\"_parent\"><img src=\"https://colab.research.google.com/assets/colab-badge.svg\" alt=\"Open In Colab\"/></a>"
      ]
    },
    {
      "cell_type": "markdown",
      "source": [
        "ФИО:"
      ],
      "metadata": {
        "id": "fLDS5f_mCnPa"
      }
    },
    {
      "cell_type": "markdown",
      "source": [
        "# Задание (совместное с преподавателем)\n",
        "\n",
        "\n"
      ],
      "metadata": {
        "id": "-CSHUbWzCqeM"
      }
    },
    {
      "cell_type": "markdown",
      "source": [
        "Напишите систему для учёта отпусков с возможностью узнавать, сколько дней отпуска осталось у того или иного сотрудника.\n",
        "Для этого создайте класс Employee со следующими методами:\n",
        "\n",
        "- Метод consume_vacation должен отвечать за списание дней отпуска.\n",
        "\n",
        "Единственный параметр этого метода (кроме self) — количество потраченных отпускных дней (целое число).\n",
        "\n",
        "При вызове метода consume_vacation соответствующее количество дней должно вычитаться из общего числа доступных отпускных дней сотрудника.\n",
        "\n",
        "Чтобы определить число доступных отпускных дней конкретного сотрудника, в классе опишите атрибут экземпляра |, который по умолчанию будет равен значению атрибута класса vacation_days, и используйте этот атрибут в работе метода.\n",
        "\n",
        "- Метод get_vacation_details должен возвращать остаток отпускных дней сотрудника в формате: ```Остаток отпускных дней: <число>.```\n",
        "\n",
        "\n",
        "Чтобы проверить работу программы:\n",
        "1. Создайте экземпляр класса Employee.\n",
        "2. Вызовите метод consume_vacation, указав подходящее значение аргумента, например 7.\n",
        "3. Вызовите метод get_vacation_details."
      ],
      "metadata": {
        "id": "a_flBjZOCwYz"
      }
    },
    {
      "cell_type": "code",
      "source": [
        "class Employee:\n",
        "  vacation_days = 28\n",
        "\n",
        "\n",
        "  def __init__(self, first_name, second_name, gender):\n",
        "    self.first_name = first_name\n",
        "    self.second_name = second_name\n",
        "    self.gender = gender\n",
        "    self.remaining_vacations_days = self.vacation_days\n",
        "\n",
        "  def consume_vacation(self, days):\n",
        "    self.remaining_vacations_days -= days\n",
        "\n",
        "  def get_vacation_details(self):\n",
        "    return f'Остаток отпускных дней: {self.remaining_vacations_days}.'\n"
      ],
      "metadata": {
        "id": "2TyRY9a1XCOu"
      },
      "execution_count": null,
      "outputs": []
    },
    {
      "cell_type": "code",
      "source": [
        "employee1 = Employee('Иван', 'Иванов', 'м')\n",
        "employee2 = Employee('Никита', 'Никитов', 'м')\n",
        "\n",
        "print(employee1.first_name, employee1.get_vacation_details())\n",
        "print(employee1.first_name, 'уехал в отпуск на 7 дней')\n",
        "\n",
        "employee1.consume_vacation(7)\n",
        "\n",
        "print(employee1.first_name, employee1.get_vacation_details(),'\\n')\n",
        "\n",
        "\n",
        "print(employee2.first_name, employee2.get_vacation_details())\n",
        "print(employee2.first_name, 'уехал в отпуск на 20 дней')\n",
        "\n",
        "employee2.consume_vacation(20)\n",
        "\n",
        "print(employee2.first_name, employee2.get_vacation_details())"
      ],
      "metadata": {
        "colab": {
          "base_uri": "https://localhost:8080/"
        },
        "id": "fMRDciLDZ_-j",
        "outputId": "b8d2dee2-9623-443b-c98b-67a1a1c93aef"
      },
      "execution_count": null,
      "outputs": [
        {
          "output_type": "stream",
          "name": "stdout",
          "text": [
            "Иван Остаток отпускных дней: 28.\n",
            "Иван уехал в отпуск на 7 дней\n",
            "Иван Остаток отпускных дней: 21. \n",
            "\n",
            "Никита Остаток отпускных дней: 28.\n",
            "Никита уехал в отпуск на 20 дней\n",
            "Никита Остаток отпускных дней: 8.\n"
          ]
        }
      ]
    },
    {
      "cell_type": "markdown",
      "source": [
        "# Задание 1"
      ],
      "metadata": {
        "id": "C0Z_wXo9XIr2"
      }
    },
    {
      "cell_type": "markdown",
      "source": [
        "Задание:\n",
        "\n",
        "Создайте класс с именем Rectangle который имеет:\n",
        "- Атрибуты ширины и высоты.\n",
        "- Метод расчета площади.\n",
        "- Метод расчета периметра.\n",
        "- Метод отображения размеров прямоугольника.\n",
        "\n",
        "Создайте экземпляр класса Rectangleи продемонстрируйте его функциональность."
      ],
      "metadata": {
        "id": "jQ4qqd8nEZBY"
      }
    },
    {
      "cell_type": "code",
      "source": [
        "class Rectangle:\n",
        "  def __init__(self, height, width):\n",
        "    self.height = height\n",
        "    self.width = width\n",
        "\n",
        "  def square(self):\n",
        "    return self.height*self.width\n",
        "\n",
        "  def perimeter(self):\n",
        "    return 2*self.height + 2*self.width\n",
        "\n",
        "  def height_and_width(self):\n",
        "    print(f'Высота {self.height}, ширина {self.width}')\n",
        "\n",
        "\n",
        "def main():\n",
        "  rectangle = Rectangle(int(input('Введите высоту')), int(input(\"Введите ширину\")))\n",
        "  rectangle.height_and_width()\n",
        "  print(f\"Площадь: {rectangle.square()}\")\n",
        "  print(f\"Периметр: {rectangle.perimeter()}\")\n",
        "\n",
        "main()"
      ],
      "metadata": {
        "id": "dG6uNPqTEAvt",
        "colab": {
          "base_uri": "https://localhost:8080/"
        },
        "outputId": "4a2dd8ba-07e9-466a-ff8c-60ca8dd1af80"
      },
      "execution_count": null,
      "outputs": [
        {
          "output_type": "stream",
          "name": "stdout",
          "text": [
            "Введите высоту2 \n",
            "Введите ширину2\n",
            "Высота 2, ширина 2\n",
            "Площадь: 4\n",
            "Периметр: 8\n"
          ]
        }
      ]
    },
    {
      "cell_type": "markdown",
      "source": [
        "# Задание 2"
      ],
      "metadata": {
        "id": "0ct1u6lqE73j"
      }
    },
    {
      "cell_type": "markdown",
      "source": [
        "Задание: Создайте мини версию банковской системы:\n",
        "\n",
        "\n",
        "Инструкции:\n",
        "\n",
        "1. Создайте класс BankAccountсо следующими атрибутами:\n",
        "    - account_holder -  владелец счета\n",
        "    - balance - баланс счета\n",
        "\n",
        "2. Реализуйте следующие методы:\n",
        "    - Метод для инициализации владельца счета: имя владельца счета и установите начальный баланс на 0.\n",
        "    - deposit(amount): Добавьте указанную сумму к балансу.\n",
        "    - withdraw(amount): Вычесть указанную сумму из баланса, если средств достаточно; в противном случае вывести предупреждение.\n",
        "    - get_balance(): Возврат текущего баланса.\n",
        "\n",
        "\n",
        "Создайте объект класса и продемонстрируйте его возможности"
      ],
      "metadata": {
        "id": "FOpIpcLxE-WK"
      }
    },
    {
      "cell_type": "code",
      "source": [
        "class BankAccountco:\n",
        "  def __init__(self, account_holder):\n",
        "    self.account_holder = account_holder\n",
        "    self.balance = 0\n",
        "\n",
        "  def account(self):\n",
        "    print(f'Имя пользователя {self.account_holder}, состояние счета {self.balance}')\n",
        "\n",
        "  def deposit(self, amount): # Внесение средств\n",
        "    self.balance += amount\n",
        "    print(f\"Вы внесли {amount}. Новый баланс: {self.balance}.\")\n",
        "\n",
        "  def withdraw(self, amount): # Снятие средств\n",
        "    if amount > 0:\n",
        "          if amount <= self.balance:\n",
        "              self.balance -= amount\n",
        "              print(f\"Вы сняли {amount}. Новый баланс: {self.balance}.\")\n",
        "          else:\n",
        "              print(\"Недостаточно средств для снятия.\")\n",
        "    else:\n",
        "        print(\"Сумма для снятия должна быть положительной.\")\n",
        "\n",
        "  def get_balance(self): # Проверка баланса\n",
        "    return self.balance\n",
        "\n",
        "\n",
        "account = BankAccountco(\"Nana Nana\")\n",
        "\n",
        "# Демонстрация возможностей\n",
        "print(f\"Владелец счета: {account.account_holder}\")\n",
        "print(f\"Текущий баланс: {account.get_balance()}\")\n",
        "\n",
        "# Внесение средств\n",
        "account.deposit(1000)\n",
        "\n",
        "# Снятие средств\n",
        "account.withdraw(500)\n",
        "\n",
        "# Проверка баланса\n",
        "print(f\"Текущий баланс: {account.get_balance()}\")\n",
        "\n",
        "# Попытка снять больше, чем на счету\n",
        "account.withdraw(600)\n",
        "\n"
      ],
      "metadata": {
        "id": "WWXNIUrCE99W",
        "colab": {
          "base_uri": "https://localhost:8080/"
        },
        "outputId": "2d2a2aa4-ee9f-4d2f-aedc-fb1e2f27d069"
      },
      "execution_count": null,
      "outputs": [
        {
          "output_type": "stream",
          "name": "stdout",
          "text": [
            "Владелец счета: Nana Nana\n",
            "Текущий баланс: 0\n",
            "Вы внесли 1000. Новый баланс: 1000.\n",
            "Вы сняли 500. Новый баланс: 500.\n",
            "Текущий баланс: 500\n",
            "Недостаточно средств для снятия.\n"
          ]
        }
      ]
    },
    {
      "cell_type": "markdown",
      "source": [
        "# Задание 3"
      ],
      "metadata": {
        "id": "C5DX5Uf2FfP6"
      }
    },
    {
      "cell_type": "markdown",
      "source": [
        "Возьмите код и задание (Рыцарь и дракон) из предыдущей практики и реализуйте его с применением классов"
      ],
      "metadata": {
        "id": "0cR-MYepFgz6"
      }
    },
    {
      "cell_type": "code",
      "source": [
        "import random\n",
        "\n",
        "class Character:\n",
        "    def __init__(self, name, armor, weapon, health):\n",
        "        self.name = name\n",
        "        self.armor = armor\n",
        "        self.weapon = weapon\n",
        "        self.health = health\n",
        "\n",
        "    def attack(self):\n",
        "        damage = random.randint(self.weapon['min_damage'], self.weapon['max_damage'])\n",
        "        print(f\"{self.name} атакует и наносит {damage} урона!\")\n",
        "        return damage\n",
        "\n",
        "    def take_damage(self, damage):\n",
        "        damage_taken = max(0, damage - self.armor)\n",
        "        self.health -= damage_taken\n",
        "        print(f\"{self.name} получает {damage_taken} урона! Осталось здоровья: {self.health}\")\n",
        "\n",
        "    def is_alive(self):\n",
        "        return self.health > 0\n",
        "\n",
        "\n",
        "class Dragon:\n",
        "    def __init__(self, name, health, min_damage, max_damage):\n",
        "        self.name = name\n",
        "        self.health = health\n",
        "        self.min_damage = min_damage\n",
        "        self.max_damage = max_damage\n",
        "\n",
        "    def attack(self):\n",
        "        damage = random.randint(self.min_damage, self.max_damage)\n",
        "        print(f\"{self.name} атакует и наносит {damage} урона!\")\n",
        "        return damage\n",
        "\n",
        "    def take_damage(self, damage):\n",
        "        self.health -= damage\n",
        "        print(f\"{self.name} получает {damage} урона! Осталось здоровья: {self.health}\")\n",
        "\n",
        "\n",
        "def game_intro():\n",
        "    print(\"Добро пожаловать в игру 'Рыцарь и Дракон'!\")\n",
        "    knight_name = input(\"Введите имя вашего рыцаря: \")\n",
        "    knight_armor = int(input(\"Введите уровень доспехов вашего рыцаря: \"))\n",
        "    knight_weapon = {\n",
        "        'name': input(\"Введите название оружия: \"),\n",
        "        'min_damage': int(input(\"Введите минимальный урон: \")),\n",
        "        'max_damage': int(input(\"Введите максимальный урон: \"))\n",
        "    }\n",
        "    knight_health = 100\n",
        "    return Character(knight_name, knight_armor, knight_weapon, knight_health)\n",
        "\n",
        "\n",
        "def battle(knight, dragon):\n",
        "    print(f\"n{knight.name} сражается с драконом {dragon.name}!\")\n",
        "\n",
        "    while knight.is_alive() and dragon.health > 0:\n",
        "\n",
        "        dragon.take_damage(knight.attack())\n",
        "\n",
        "        if dragon.health <= 0:\n",
        "            print(f\"{dragon.name} повержен! {knight.name} победил!\")\n",
        "            break\n",
        "\n",
        "\n",
        "        knight.take_damage(dragon.attack())\n",
        "\n",
        "        if not knight.is_alive():\n",
        "            print(f\"{knight.name} пал в бою! Дракон победил.\")\n",
        "\n",
        "\n",
        "def main():\n",
        "    knight = game_intro()\n",
        "\n",
        "\n",
        "    dragon_name = \"Дракон\"\n",
        "    dragon_health = 100\n",
        "    dragon_min_damage = 10\n",
        "    dragon_max_damage = 20\n",
        "    dragon = Dragon(dragon_name, dragon_health, dragon_min_damage, dragon_max_damage)\n",
        "\n",
        "    battle(knight, dragon)\n",
        "\n",
        "main()\n"
      ],
      "metadata": {
        "id": "Oz9BZbhAFwua",
        "colab": {
          "base_uri": "https://localhost:8080/"
        },
        "outputId": "4c03d8d1-7304-4244-ad16-9d3cc58a18bc"
      },
      "execution_count": null,
      "outputs": [
        {
          "output_type": "stream",
          "name": "stdout",
          "text": [
            "Добро пожаловать в игру 'Рыцарь и Дракон'!\n",
            "Введите имя вашего рыцаря: 4\n",
            "Введите уровень доспехов вашего рыцаря: 6\n",
            "Введите название оружия: Vtx\n",
            "Введите минимальный урон: 1\n",
            "Введите максимальный урон: 100\n",
            "n4 сражается с драконом Дракон!\n",
            "4 атакует и наносит 13 урона!\n",
            "Дракон получает 13 урона! Осталось здоровья: 87\n",
            "Дракон атакует и наносит 18 урона!\n",
            "4 получает 12 урона! Осталось здоровья: 88\n",
            "4 атакует и наносит 100 урона!\n",
            "Дракон получает 100 урона! Осталось здоровья: -13\n",
            "Дракон повержен! 4 победил!\n"
          ]
        }
      ]
    },
    {
      "cell_type": "markdown",
      "source": [
        "# Дополнительное задание\n"
      ],
      "metadata": {
        "id": "b_mJHXcQGI9t"
      }
    },
    {
      "cell_type": "markdown",
      "source": [
        "Задача: Система управления библиотекой\n",
        "\n",
        "**Цель**\n",
        "Создайте простую систему управления библиотекой, которая позволит пользователям добавлять книги, брать книги, возвращать книги и просматривать список доступных книг.\n",
        "\n",
        "**Требования**\n",
        "\n",
        "1. **Определение класса**:\n",
        "   – Создайте класс с именем «Book» со следующими атрибутами:\n",
        "     - `title`\n",
        "     - `автор`\n",
        "     - `isbn`\n",
        "     - `is_borrowed` (по умолчанию `False`)\n",
        "\n",
        "2. **Класс библиотеки**:\n",
        "   - Создайте класс с именем Library, который управляет коллекцией книг.\n",
        "   - Класс должен иметь следующие методы:\n",
        "     - `__init__(self)`: инициализирует пустой список книг.\n",
        "     - `add_book(self, book: Book)`: добавляет новую книгу в библиотеку.\n",
        "     - `borrow_book(self, isbn: str)`: помечает книгу как заимствованную. Если книга не найдена или уже взята, выведите соответствующее сообщение.\n",
        "     - `return_book(self, isbn: str)`: помечает книгу как возвращенную. Если книга не найдена или не была взята взаймы, выведите соответствующее сообщение.\n",
        "     - `list_available_books(self)`: печатает список всех доступных книг в библиотеке.\n",
        "     - `find_book(self, isbn: str)`: возвращает объект книги, если он найден, в противном случае возвращает `None`.\n",
        "\n",
        "3. **Взаимодействие с пользователем**:\n",
        "   - Создайте простое текстовое меню, которое позволит пользователям:\n",
        "     - Добавить книгу\n",
        "     - Одолжить книгу\n",
        "     - Вернуть книгу\n",
        "     - Список доступных книг\n",
        "     - Выйти из программы"
      ],
      "metadata": {
        "id": "pnIUdFPcGOVL"
      }
    },
    {
      "cell_type": "code",
      "source": [],
      "metadata": {
        "id": "GKKmdfN8GL6f",
        "colab": {
          "base_uri": "https://localhost:8080/",
          "height": 467
        },
        "outputId": "f5618a95-c01c-4eae-9e10-8382d8e862fb"
      },
      "execution_count": null,
      "outputs": [
        {
          "output_type": "stream",
          "name": "stdout",
          "text": [
            "\n",
            "Меню:\n",
            "1. Добавить книгу\n",
            "2. Одолжить книгу\n",
            "3. Вернуть книгу\n",
            "4. Список доступных книг\n",
            "5. Выйти\n"
          ]
        },
        {
          "output_type": "error",
          "ename": "KeyboardInterrupt",
          "evalue": "Interrupted by user",
          "traceback": [
            "\u001b[0;31m---------------------------------------------------------------------------\u001b[0m",
            "\u001b[0;31mKeyboardInterrupt\u001b[0m                         Traceback (most recent call last)",
            "\u001b[0;32m<ipython-input-17-987a48c2c22c>\u001b[0m in \u001b[0;36m<cell line: 111>\u001b[0;34m()\u001b[0m\n\u001b[1;32m    110\u001b[0m \u001b[0;34m\u001b[0m\u001b[0m\n\u001b[1;32m    111\u001b[0m \u001b[0;32mif\u001b[0m \u001b[0m__name__\u001b[0m \u001b[0;34m==\u001b[0m \u001b[0;34m\"__main__\"\u001b[0m\u001b[0;34m:\u001b[0m\u001b[0;34m\u001b[0m\u001b[0;34m\u001b[0m\u001b[0m\n\u001b[0;32m--> 112\u001b[0;31m     \u001b[0mmain\u001b[0m\u001b[0;34m(\u001b[0m\u001b[0;34m)\u001b[0m\u001b[0;34m\u001b[0m\u001b[0;34m\u001b[0m\u001b[0m\n\u001b[0m",
            "\u001b[0;32m<ipython-input-17-987a48c2c22c>\u001b[0m in \u001b[0;36mmain\u001b[0;34m()\u001b[0m\n\u001b[1;32m     81\u001b[0m         \u001b[0mprint\u001b[0m\u001b[0;34m(\u001b[0m\u001b[0;34m\"5. Выйти\"\u001b[0m\u001b[0;34m)\u001b[0m\u001b[0;34m\u001b[0m\u001b[0;34m\u001b[0m\u001b[0m\n\u001b[1;32m     82\u001b[0m \u001b[0;34m\u001b[0m\u001b[0m\n\u001b[0;32m---> 83\u001b[0;31m         \u001b[0mchoice\u001b[0m \u001b[0;34m=\u001b[0m \u001b[0minput\u001b[0m\u001b[0;34m(\u001b[0m\u001b[0;34m\"Введите ваш выбор: \"\u001b[0m\u001b[0;34m)\u001b[0m\u001b[0;34m\u001b[0m\u001b[0;34m\u001b[0m\u001b[0m\n\u001b[0m\u001b[1;32m     84\u001b[0m \u001b[0;34m\u001b[0m\u001b[0m\n\u001b[1;32m     85\u001b[0m         \u001b[0;32mif\u001b[0m \u001b[0mchoice\u001b[0m \u001b[0;34m==\u001b[0m \u001b[0;34m\"1\"\u001b[0m\u001b[0;34m:\u001b[0m\u001b[0;34m\u001b[0m\u001b[0;34m\u001b[0m\u001b[0m\n",
            "\u001b[0;32m/usr/local/lib/python3.10/dist-packages/ipykernel/kernelbase.py\u001b[0m in \u001b[0;36mraw_input\u001b[0;34m(self, prompt)\u001b[0m\n\u001b[1;32m    849\u001b[0m                 \u001b[0;34m\"raw_input was called, but this frontend does not support input requests.\"\u001b[0m\u001b[0;34m\u001b[0m\u001b[0;34m\u001b[0m\u001b[0m\n\u001b[1;32m    850\u001b[0m             )\n\u001b[0;32m--> 851\u001b[0;31m         return self._input_request(str(prompt),\n\u001b[0m\u001b[1;32m    852\u001b[0m             \u001b[0mself\u001b[0m\u001b[0;34m.\u001b[0m\u001b[0m_parent_ident\u001b[0m\u001b[0;34m,\u001b[0m\u001b[0;34m\u001b[0m\u001b[0;34m\u001b[0m\u001b[0m\n\u001b[1;32m    853\u001b[0m             \u001b[0mself\u001b[0m\u001b[0;34m.\u001b[0m\u001b[0m_parent_header\u001b[0m\u001b[0;34m,\u001b[0m\u001b[0;34m\u001b[0m\u001b[0;34m\u001b[0m\u001b[0m\n",
            "\u001b[0;32m/usr/local/lib/python3.10/dist-packages/ipykernel/kernelbase.py\u001b[0m in \u001b[0;36m_input_request\u001b[0;34m(self, prompt, ident, parent, password)\u001b[0m\n\u001b[1;32m    893\u001b[0m             \u001b[0;32mexcept\u001b[0m \u001b[0mKeyboardInterrupt\u001b[0m\u001b[0;34m:\u001b[0m\u001b[0;34m\u001b[0m\u001b[0;34m\u001b[0m\u001b[0m\n\u001b[1;32m    894\u001b[0m                 \u001b[0;31m# re-raise KeyboardInterrupt, to truncate traceback\u001b[0m\u001b[0;34m\u001b[0m\u001b[0;34m\u001b[0m\u001b[0m\n\u001b[0;32m--> 895\u001b[0;31m                 \u001b[0;32mraise\u001b[0m \u001b[0mKeyboardInterrupt\u001b[0m\u001b[0;34m(\u001b[0m\u001b[0;34m\"Interrupted by user\"\u001b[0m\u001b[0;34m)\u001b[0m \u001b[0;32mfrom\u001b[0m \u001b[0;32mNone\u001b[0m\u001b[0;34m\u001b[0m\u001b[0;34m\u001b[0m\u001b[0m\n\u001b[0m\u001b[1;32m    896\u001b[0m             \u001b[0;32mexcept\u001b[0m \u001b[0mException\u001b[0m \u001b[0;32mas\u001b[0m \u001b[0me\u001b[0m\u001b[0;34m:\u001b[0m\u001b[0;34m\u001b[0m\u001b[0;34m\u001b[0m\u001b[0m\n\u001b[1;32m    897\u001b[0m                 \u001b[0mself\u001b[0m\u001b[0;34m.\u001b[0m\u001b[0mlog\u001b[0m\u001b[0;34m.\u001b[0m\u001b[0mwarning\u001b[0m\u001b[0;34m(\u001b[0m\u001b[0;34m\"Invalid Message:\"\u001b[0m\u001b[0;34m,\u001b[0m \u001b[0mexc_info\u001b[0m\u001b[0;34m=\u001b[0m\u001b[0;32mTrue\u001b[0m\u001b[0;34m)\u001b[0m\u001b[0;34m\u001b[0m\u001b[0;34m\u001b[0m\u001b[0m\n",
            "\u001b[0;31mKeyboardInterrupt\u001b[0m: Interrupted by user"
          ]
        }
      ]
    },
    {
      "cell_type": "code",
      "source": [],
      "metadata": {
        "id": "ZXOWt9LeqWx0"
      },
      "execution_count": null,
      "outputs": []
    }
  ]
}