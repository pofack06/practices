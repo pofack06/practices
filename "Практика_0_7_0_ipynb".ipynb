{
  "nbformat": 4,
  "nbformat_minor": 0,
  "metadata": {
    "colab": {
      "provenance": [],
      "include_colab_link": true
    },
    "kernelspec": {
      "name": "python3",
      "display_name": "Python 3"
    },
    "language_info": {
      "name": "python"
    }
  },
  "cells": [
    {
      "cell_type": "markdown",
      "metadata": {
        "id": "view-in-github",
        "colab_type": "text"
      },
      "source": [
        "<a href=\"https://colab.research.google.com/github/pofack06/practices/blob/main/%22%D0%9F%D1%80%D0%B0%D0%BA%D1%82%D0%B8%D0%BA%D0%B0_0_7_0_ipynb%22.ipynb\" target=\"_parent\"><img src=\"https://colab.research.google.com/assets/colab-badge.svg\" alt=\"Open In Colab\"/></a>"
      ]
    },
    {
      "cell_type": "code",
      "source": [
        "pip install requests"
      ],
      "metadata": {
        "id": "93s__vjs9PXK",
        "colab": {
          "base_uri": "https://localhost:8080/"
        },
        "outputId": "6b11c5f9-b93a-4d79-c795-797e71982946"
      },
      "execution_count": null,
      "outputs": [
        {
          "output_type": "stream",
          "name": "stdout",
          "text": [
            "Requirement already satisfied: requests in /usr/local/lib/python3.10/dist-packages (2.32.3)\n",
            "Requirement already satisfied: charset-normalizer<4,>=2 in /usr/local/lib/python3.10/dist-packages (from requests) (3.4.0)\n",
            "Requirement already satisfied: idna<4,>=2.5 in /usr/local/lib/python3.10/dist-packages (from requests) (3.10)\n",
            "Requirement already satisfied: urllib3<3,>=1.21.1 in /usr/local/lib/python3.10/dist-packages (from requests) (2.2.3)\n",
            "Requirement already satisfied: certifi>=2017.4.17 in /usr/local/lib/python3.10/dist-packages (from requests) (2024.8.30)\n"
          ]
        }
      ]
    },
    {
      "cell_type": "markdown",
      "source": [
        "Ссылка на материалы:  [пдф тут](https://drive.google.com/file/d/16Cm2tgrpuDH8eIdxdSYyOsfDPqnJ3byd/view?usp=sharing)"
      ],
      "metadata": {
        "id": "M9IlAZAPBBm9"
      }
    },
    {
      "cell_type": "markdown",
      "source": [],
      "metadata": {
        "id": "FK6ybIj79O2x"
      }
    },
    {
      "cell_type": "markdown",
      "source": [
        "ФИО:"
      ],
      "metadata": {
        "id": "ZLVI_WIcuT56"
      }
    },
    {
      "cell_type": "code",
      "source": [
        "Непеин Артемий Игоревич"
      ],
      "metadata": {
        "id": "3AfG_Tal0P2S"
      },
      "execution_count": null,
      "outputs": []
    },
    {
      "cell_type": "markdown",
      "source": [
        "## Задание 1. HTTP-запросы, ответы и погода"
      ],
      "metadata": {
        "id": "Gtm1UjYgDlY7"
      }
    },
    {
      "cell_type": "markdown",
      "source": [
        "Описание:\n",
        "\n",
        "Напишите HTTP-запрос для получения информации о погоде в введенном городе из API.\n",
        "\n",
        "Можно использовать API: https://open-meteo.com/. Используйте метод GET.\n",
        "\n",
        "\n",
        "Ввод\n",
        "```\n",
        "56.50, 60.35\n",
        "```\n",
        "\n",
        "Вывод\n",
        "```\n",
        "Сегодня (1.11) погода 20 ◦С, нет осадков, туман\n",
        "```\n",
        "\n",
        "\n",
        "\n"
      ],
      "metadata": {
        "id": "FtjnLNIKzfMZ"
      }
    },
    {
      "cell_type": "code",
      "source": [
        "import requests\n",
        "from datetime import datetime\n",
        "\n",
        "\n",
        "# функция отправки запроса\n",
        "def send_request(url):\n",
        "    response = requests.get(url)\n",
        "\n",
        "    status_code = response.status_code\n",
        "    if status_code == 200:\n",
        "        return response.json()\n",
        "    return None\n",
        "\n",
        "\n",
        "# функция очистки данных\n",
        "def clear_data(data):\n",
        "    # получение текущей даты\n",
        "    current_date = datetime.today().date()\n",
        "    current_date = f'{current_date.day}.{current_date.month}'\n",
        "\n",
        "    # получение температуры\n",
        "    temperature = data['current']['temperature_2m']\n",
        "    temperature_format = data['current_units']['temperature_2m']\n",
        "\n",
        "    # получение кода температуры\n",
        "    weather_code = data['current']['weather_code']\n",
        "\n",
        "    # определение погоды по коду\n",
        "    if weather_code in [0, 1]:\n",
        "        weather = 'нет осадков, ясно'\n",
        "    elif weather_code == 45:\n",
        "        weather = 'нет осадков, туман'\n",
        "    elif weather_code in [61, 63, 65 ,71 ,73, 75]:\n",
        "        weather = 'осадки, нет тумана'\n",
        "    else:\n",
        "        weather = 'выгляни в окно и посмотри сам'\n",
        "\n",
        "    # формирование сообщения\n",
        "    message = f'Сегодня ({current_date}) погода {temperature} {temperature_format}, {weather}'\n",
        "\n",
        "    return message\n",
        "\n",
        "\n",
        "# основная функция\n",
        "def main():\n",
        "    coordinates = input('Введите ваши координаты').split(', ')\n",
        "    url = f'https://api.open-meteo.com/v1/forecast?latitude={coordinates[0]}&longitude={coordinates[1]}&current=temperature_2m,weather_code&forecast_days=1'\n",
        "    data = send_request(url)\n",
        "    message = clear_data(data)\n",
        "    print(message)\n",
        "\n",
        "\n",
        "main()"
      ],
      "metadata": {
        "id": "5Mbs40_buVRV",
        "colab": {
          "base_uri": "https://localhost:8080/"
        },
        "outputId": "2f848e5e-50a6-43aa-a25e-871c12766cab"
      },
      "execution_count": null,
      "outputs": [
        {
          "output_type": "stream",
          "name": "stdout",
          "text": [
            "{'latitude': 52.52, 'longitude': 13.419998, 'generationtime_ms': 0.06008148193359375, 'utc_offset_seconds': 0, 'timezone': 'GMT', 'timezone_abbreviation': 'GMT', 'elevation': 38.0, 'current_units': {'time': 'iso8601', 'interval': 'seconds', 'temperature_2m': '°C', 'apparent_temperature': '°C', 'precipitation': 'mm'}, 'current': {'time': '2024-10-31T10:00', 'interval': 900, 'temperature_2m': 12.6, 'apparent_temperature': 10.6, 'precipitation': 0.0}}\n"
          ]
        }
      ]
    },
    {
      "cell_type": "markdown",
      "source": [
        "## Задание 2. HTTP-запросы, ответы и покемоны"
      ],
      "metadata": {
        "id": "FYjU9WmVDoGs"
      }
    },
    {
      "cell_type": "markdown",
      "source": [
        "**Описание:**\n",
        "\n",
        "\n",
        "Создайте код программы, которая будет взаимодействовать с API, со следующим функионалом:\n",
        "\n",
        "1. Используя метод GET, отправьте запрос на endpoint /pokemon, чтобы получить список первых 20 покемонов\n",
        "\n",
        "2. Извлеките имена покемонов из ответа и выведите их списком\n",
        "\n",
        "3. Введите с помощью input() название одного из покемонов\n",
        "\n",
        "\n",
        "```\n",
        "Имя покемона: clefairy\n",
        "```\n",
        "\n",
        "\n",
        "\n",
        "4. Отправьте GET-запрос, чтобы получить полную информацию о выбранном покемоне\n",
        "\n",
        "5. Извлеките и выведите следующие данные о введенном покемоне:\n",
        "\n",
        "     • Имя\n",
        "\n",
        "     • Тип\n",
        "\n",
        "     • Вес\n",
        "\n",
        "     • Рост\n",
        "\n",
        "     • Способности\n",
        "\n",
        "Используйте PokéAPI (https://pokeapi.co/), который предоставляет информацию о покемонах, их характеристиках, типах и другую информацию."
      ],
      "metadata": {
        "id": "oZ1guEbl0PZm"
      }
    },
    {
      "cell_type": "code",
      "source": [
        "import requests\n",
        "\n",
        "def get_pokemon_list():\n",
        "    response = requests.get(\"https://pokeapi.co/api/v2/pokemon?limit=20\")\n",
        "\n",
        "    if response.status_code == 200:\n",
        "        data = response.json()\n",
        "        # Извлекаем имена покемонов\n",
        "        pokemon_names = [pokemon['name'] for pokemon in data['results']]\n",
        "        return pokemon_names\n",
        "    else:\n",
        "        None\n",
        "\n",
        "\n",
        "def get_pokemon_info(pokemon_name):\n",
        "    response = requests.get(f\"https://pokeapi.co/api/v2/pokemon/{pokemon_name}\")\n",
        "\n",
        "    if response.status_code == 200:\n",
        "        data = response.json()\n",
        "        # Извлекаем необходимые данные\n",
        "        name = data['name']\n",
        "        types = [t['type']['name'] for t in data['types']]\n",
        "        weight = data['weight']\n",
        "        height = data['height']\n",
        "        abilities = [a['ability']['name'] for a in data['abilities']]\n",
        "\n",
        "        return {\n",
        "            \"name\": name,\n",
        "            \"types\": types,\n",
        "            \"weight\": weight,\n",
        "            \"height\": height,\n",
        "            \"abilities\": abilities\n",
        "        }\n",
        "    else:\n",
        "        print(\"Ошибка при получении информации о покемоне.\")\n",
        "        return None\n",
        "\n",
        "\n",
        "def main():\n",
        "    # Получаем список покемонов и выводим их\n",
        "    pokemon_list = get_pokemon_list()\n",
        "    print(\"Список первых 20 покемонов:\")\n",
        "    for idx, name in enumerate(pokemon_list, start=1):\n",
        "        print(f\"{idx}. {name}\")\n",
        "\n",
        "    # Вводим имя покемона\n",
        "    pokemon_name = input(\"Введите имя одного из покемонов: \").lower()\n",
        "\n",
        "    # Получаем информацию о выбранном покемоне\n",
        "    pokemon_info = get_pokemon_info(pokemon_name)\n",
        "\n",
        "    if pokemon_info:\n",
        "        print(\"\\nИнформация о покемоне:\")\n",
        "        print(f\"Имя: {pokemon_info['name']}\")\n",
        "        print(f\"Типы: {', '.join(pokemon_info['types'])}\")\n",
        "        print(f\"Вес: {pokemon_info['weight']}\")\n",
        "        print(f\"Рост: {pokemon_info['height']}\")\n",
        "        print(f\"Способности: {', '.join(pokemon_info['abilities'])}\")\n",
        "\n",
        "\n",
        "main()"
      ],
      "metadata": {
        "colab": {
          "base_uri": "https://localhost:8080/"
        },
        "id": "2DF9YDSiU2XK",
        "outputId": "643882db-b4f5-47f3-c539-67b6e7b2ccc2"
      },
      "execution_count": null,
      "outputs": [
        {
          "output_type": "stream",
          "name": "stdout",
          "text": [
            "Список первых 20 покемонов:\n",
            "1. bulbasaur\n",
            "2. ivysaur\n",
            "3. venusaur\n",
            "4. charmander\n",
            "5. charmeleon\n",
            "6. charizard\n",
            "7. squirtle\n",
            "8. wartortle\n",
            "9. blastoise\n",
            "10. caterpie\n",
            "11. metapod\n",
            "12. butterfree\n",
            "13. weedle\n",
            "14. kakuna\n",
            "15. beedrill\n",
            "16. pidgey\n",
            "17. pidgeotto\n",
            "18. pidgeot\n",
            "19. rattata\n",
            "20. raticate\n",
            "Введите имя одного из покемонов: clefairy\n",
            "\n",
            "Информация о покемоне:\n",
            "Имя: clefairy\n",
            "Типы: fairy\n",
            "Вес: 75\n",
            "Рост: 6\n",
            "Способности: cute-charm, magic-guard, friend-guard\n"
          ]
        }
      ]
    },
    {
      "cell_type": "markdown",
      "source": [
        "## Задание 3. HTTP-запросы, ответы и посты"
      ],
      "metadata": {
        "id": "Ci07uZdADue9"
      }
    },
    {
      "cell_type": "markdown",
      "source": [
        "**Описание:**\n",
        "\n",
        "Создайте программу, которая будет взаимодействовать с JSONPlaceholder API, реализуя следующие функции:\n",
        "\n",
        "1. Реализуйте функцию, которая выполняет GET-запрос к https://jsonplaceholder.typicode.com/posts и возвращает список постов в формате JSON\n",
        "\n",
        "2. Реализуйте функцию, котороая получает вводимое ID поста, выполняет GET-запрос по ID и возвращает данные поста в формате JSON\n",
        "\n",
        "3. Реализуйте функцию, которая выполняет обработку JSON из пункта 2 и выводит всю важную информацию в консоль"
      ],
      "metadata": {
        "id": "h194KTer1-B3"
      }
    },
    {
      "cell_type": "code",
      "source": [
        "import requests\n",
        "id = int(input())\n",
        "\n",
        "def send_request(url):\n",
        "    response = requests.get(url)\n",
        "    status_code = response.status_code\n",
        "    if status_code == 200:\n",
        "        return response.json()\n",
        "    return None\n",
        "\n",
        "\n",
        "def search_post():\n",
        "  global id\n",
        "  url = 'https://jsonplaceholder.typicode.com/posts'\n",
        "  posts = send_request(url)\n",
        "  for i in posts:\n",
        "    if i['id'] == id:\n",
        "      return i\n",
        "    else:\n",
        "      None\n",
        "\n",
        "\n",
        "def info():\n",
        "  a=''\n",
        "  post = search_post()\n",
        "  for k,v in post.items():\n",
        "    print(k,'-', v)\n",
        "\n",
        "\n",
        "info()\n"
      ],
      "metadata": {
        "id": "YANQx4o258Zn",
        "colab": {
          "base_uri": "https://localhost:8080/"
        },
        "outputId": "90ea2950-71d6-4d94-c3b5-4b14eb11ce7a"
      },
      "execution_count": null,
      "outputs": [
        {
          "output_type": "stream",
          "name": "stdout",
          "text": [
            "55\n",
            "userId - 6\n",
            "id - 55\n",
            "title - sit vel voluptatem et non libero\n",
            "body - debitis excepturi ea perferendis harum libero optio\n",
            "eos accusamus cum fuga ut sapiente repudiandae\n",
            "et ut incidunt omnis molestiae\n",
            "nihil ut eum odit\n"
          ]
        }
      ]
    },
    {
      "cell_type": "markdown",
      "source": [
        "## Задание 4. HTTP-запросы, ответы и работа с постами"
      ],
      "metadata": {
        "id": "rtwepQvJDy9N"
      }
    },
    {
      "cell_type": "markdown",
      "source": [
        "**Описание**\n",
        "\n",
        "Создайте программу, которая будет взаимодействовать с JSONPlaceholder API (из предыдущего задания), реализуя новые функции:\n",
        "\n",
        "1. Реализуйте функцию, которая принимает заголовок, содержимое и ID пользователя (информация вводится с помощью input()), выполняет POST-запрос для создания нового поста и возвращает информацию о созданном посте в формате JSON\n",
        "\n",
        "\n",
        "```\n",
        "Заголовок: Новый пост\n",
        "Содержимое поста: Тут должно находиться содержимое нового поста...\n",
        "ID пользователя: 10\n",
        "```\n",
        "\n",
        "\n",
        "\n",
        "2. Реализуйте функцию, которая принимает ID поста, новый заголовок и новое содержимое, выполняет PUT-запрос и возвращает обновлённый пост в формате JSON\n",
        "\n",
        "3. Реализуйте функцию, которая принимает ID поста, выполняет DELETE-запрос и возвращает статус-код ответа"
      ],
      "metadata": {
        "id": "4MjiaxDM58ta"
      }
    },
    {
      "cell_type": "code",
      "source": [
        "import requests\n",
        "\n",
        "url = 'https://jsonplaceholder.typicode.com/posts'\n",
        "def new_post():\n",
        "    title = input('Введите название заголовка ')\n",
        "    body = input('Введите текст поста ')\n",
        "    userId = input('Введите ваш ид ')\n",
        "\n",
        "    post_data = {'title': title,\n",
        "    'body': body,\n",
        "    'userId': userId\n",
        "    }\n",
        "    response = requests.post(url, json=post_data)\n",
        "\n",
        "    if response.status_code == 201:\n",
        "        print(\"Пост успешно создан:\")\n",
        "        print(response.json())\n",
        "    else:\n",
        "        print(\"Ошибка при создании поста: \", response.status_code, response.text)\n",
        "\n",
        "\n",
        "def update_post():\n",
        "    id = input('Введите ид поста ')\n",
        "    title = input('Введите название заголовка ')\n",
        "    body = input('Введите текст поста ')\n",
        "    userId = input('Введите ваш ид ')\n",
        "\n",
        "    update_data = {\n",
        "        \"title\": title,\n",
        "        \"body\": body,\n",
        "        \"userId\": userId\n",
        "    }\n",
        "\n",
        "    response = requests.put(f'{url/id}', json = update_post)\n",
        "\n",
        "    if response.status_code == 200:\n",
        "        print(\"Пост успешно обновлен: \")\n",
        "        print(response.json())\n",
        "    else:\n",
        "        print(\"Ошибка при обновление поста: \", response.status_code, response.text)\n",
        "\n",
        "\n",
        "def delete_post():\n",
        "    id = input('Введите ид поста, который хотите удалить\\n')\n",
        "\n",
        "    response = requests.delete(f'{url}/{id}')\n",
        "\n",
        "    if response.status_code == 200:\n",
        "        print(\"Пост успешно удален.\\n\")\n",
        "    else:\n",
        "        print(\"Ошибка при удалении поста:\", response.status_code, response.text)\n",
        "\n",
        "\n",
        "def main():\n",
        "    while True:\n",
        "        print(\"Что вы хотите выполнить?\")\n",
        "        print(\"Создать новый пост\")\n",
        "        print(\"Обновить существующий пост\")\n",
        "        print(\"Удалить пост\")\n",
        "\n",
        "        choice = input(\"Ваш выбор: \")\n",
        "\n",
        "        if choice == 'Создать новый пост':\n",
        "            new_post()\n",
        "        elif choice == 'Обновить существующий пост':\n",
        "            update_post()\n",
        "        elif choice == 'Удалить пост':\n",
        "            delete_post()\n",
        "        else:\n",
        "            print(\"Некорректный выбор. Пожалуйста, выберите снова.\")\n",
        "            main()\n",
        "main()"
      ],
      "metadata": {
        "id": "jZUIdwq96DNl",
        "colab": {
          "base_uri": "https://localhost:8080/",
          "height": 530
        },
        "outputId": "420ca2eb-b82f-4d7f-909f-28b18a2f41cd"
      },
      "execution_count": null,
      "outputs": [
        {
          "output_type": "stream",
          "name": "stdout",
          "text": [
            "Что вы хотите выполнить?\n",
            "Создать новый пост\n",
            "Обновить существующий пост\n",
            "Удалить пост\n",
            "Ваш выбор: Удалить пост\n",
            "Введите ид поста, который хотите удалить\n",
            "1\n",
            "Пост успешно удален.\n",
            "Что вы хотите выполнить?\n",
            "Создать новый пост\n",
            "Обновить существующий пост\n",
            "Удалить пост\n"
          ]
        },
        {
          "output_type": "error",
          "ename": "KeyboardInterrupt",
          "evalue": "Interrupted by user",
          "traceback": [
            "\u001b[0;31m---------------------------------------------------------------------------\u001b[0m",
            "\u001b[0;31mKeyboardInterrupt\u001b[0m                         Traceback (most recent call last)",
            "\u001b[0;32m<ipython-input-6-0f10955cb798>\u001b[0m in \u001b[0;36m<cell line: 72>\u001b[0;34m()\u001b[0m\n\u001b[1;32m     70\u001b[0m             \u001b[0mprint\u001b[0m\u001b[0;34m(\u001b[0m\u001b[0;34m\"Некорректный выбор. Пожалуйста, выберите снова.\"\u001b[0m\u001b[0;34m)\u001b[0m\u001b[0;34m\u001b[0m\u001b[0;34m\u001b[0m\u001b[0m\n\u001b[1;32m     71\u001b[0m             \u001b[0mmain\u001b[0m\u001b[0;34m(\u001b[0m\u001b[0;34m)\u001b[0m\u001b[0;34m\u001b[0m\u001b[0;34m\u001b[0m\u001b[0m\n\u001b[0;32m---> 72\u001b[0;31m \u001b[0mmain\u001b[0m\u001b[0;34m(\u001b[0m\u001b[0;34m)\u001b[0m\u001b[0;34m\u001b[0m\u001b[0;34m\u001b[0m\u001b[0m\n\u001b[0m",
            "\u001b[0;32m<ipython-input-6-0f10955cb798>\u001b[0m in \u001b[0;36mmain\u001b[0;34m()\u001b[0m\n\u001b[1;32m     59\u001b[0m         \u001b[0mprint\u001b[0m\u001b[0;34m(\u001b[0m\u001b[0;34m\"Удалить пост\"\u001b[0m\u001b[0;34m)\u001b[0m\u001b[0;34m\u001b[0m\u001b[0;34m\u001b[0m\u001b[0m\n\u001b[1;32m     60\u001b[0m \u001b[0;34m\u001b[0m\u001b[0m\n\u001b[0;32m---> 61\u001b[0;31m         \u001b[0mchoice\u001b[0m \u001b[0;34m=\u001b[0m \u001b[0minput\u001b[0m\u001b[0;34m(\u001b[0m\u001b[0;34m\"Ваш выбор: \"\u001b[0m\u001b[0;34m)\u001b[0m\u001b[0;34m\u001b[0m\u001b[0;34m\u001b[0m\u001b[0m\n\u001b[0m\u001b[1;32m     62\u001b[0m \u001b[0;34m\u001b[0m\u001b[0m\n\u001b[1;32m     63\u001b[0m         \u001b[0;32mif\u001b[0m \u001b[0mchoice\u001b[0m \u001b[0;34m==\u001b[0m \u001b[0;34m'Создать новый пост'\u001b[0m\u001b[0;34m:\u001b[0m\u001b[0;34m\u001b[0m\u001b[0;34m\u001b[0m\u001b[0m\n",
            "\u001b[0;32m/usr/local/lib/python3.10/dist-packages/ipykernel/kernelbase.py\u001b[0m in \u001b[0;36mraw_input\u001b[0;34m(self, prompt)\u001b[0m\n\u001b[1;32m    849\u001b[0m                 \u001b[0;34m\"raw_input was called, but this frontend does not support input requests.\"\u001b[0m\u001b[0;34m\u001b[0m\u001b[0;34m\u001b[0m\u001b[0m\n\u001b[1;32m    850\u001b[0m             )\n\u001b[0;32m--> 851\u001b[0;31m         return self._input_request(str(prompt),\n\u001b[0m\u001b[1;32m    852\u001b[0m             \u001b[0mself\u001b[0m\u001b[0;34m.\u001b[0m\u001b[0m_parent_ident\u001b[0m\u001b[0;34m,\u001b[0m\u001b[0;34m\u001b[0m\u001b[0;34m\u001b[0m\u001b[0m\n\u001b[1;32m    853\u001b[0m             \u001b[0mself\u001b[0m\u001b[0;34m.\u001b[0m\u001b[0m_parent_header\u001b[0m\u001b[0;34m,\u001b[0m\u001b[0;34m\u001b[0m\u001b[0;34m\u001b[0m\u001b[0m\n",
            "\u001b[0;32m/usr/local/lib/python3.10/dist-packages/ipykernel/kernelbase.py\u001b[0m in \u001b[0;36m_input_request\u001b[0;34m(self, prompt, ident, parent, password)\u001b[0m\n\u001b[1;32m    893\u001b[0m             \u001b[0;32mexcept\u001b[0m \u001b[0mKeyboardInterrupt\u001b[0m\u001b[0;34m:\u001b[0m\u001b[0;34m\u001b[0m\u001b[0;34m\u001b[0m\u001b[0m\n\u001b[1;32m    894\u001b[0m                 \u001b[0;31m# re-raise KeyboardInterrupt, to truncate traceback\u001b[0m\u001b[0;34m\u001b[0m\u001b[0;34m\u001b[0m\u001b[0m\n\u001b[0;32m--> 895\u001b[0;31m                 \u001b[0;32mraise\u001b[0m \u001b[0mKeyboardInterrupt\u001b[0m\u001b[0;34m(\u001b[0m\u001b[0;34m\"Interrupted by user\"\u001b[0m\u001b[0;34m)\u001b[0m \u001b[0;32mfrom\u001b[0m \u001b[0;32mNone\u001b[0m\u001b[0;34m\u001b[0m\u001b[0;34m\u001b[0m\u001b[0m\n\u001b[0m\u001b[1;32m    896\u001b[0m             \u001b[0;32mexcept\u001b[0m \u001b[0mException\u001b[0m \u001b[0;32mas\u001b[0m \u001b[0me\u001b[0m\u001b[0;34m:\u001b[0m\u001b[0;34m\u001b[0m\u001b[0;34m\u001b[0m\u001b[0m\n\u001b[1;32m    897\u001b[0m                 \u001b[0mself\u001b[0m\u001b[0;34m.\u001b[0m\u001b[0mlog\u001b[0m\u001b[0;34m.\u001b[0m\u001b[0mwarning\u001b[0m\u001b[0;34m(\u001b[0m\u001b[0;34m\"Invalid Message:\"\u001b[0m\u001b[0;34m,\u001b[0m \u001b[0mexc_info\u001b[0m\u001b[0;34m=\u001b[0m\u001b[0;32mTrue\u001b[0m\u001b[0;34m)\u001b[0m\u001b[0;34m\u001b[0m\u001b[0;34m\u001b[0m\u001b[0m\n",
            "\u001b[0;31mKeyboardInterrupt\u001b[0m: Interrupted by user"
          ]
        }
      ]
    },
    {
      "cell_type": "markdown",
      "source": [
        "## Задание 5. HTTP-запросы, ответы и пёсики"
      ],
      "metadata": {
        "id": "0UoRc9vOD3XT"
      }
    },
    {
      "cell_type": "markdown",
      "source": [
        "**Описание**\n",
        "\n",
        "Создайте программу, которая будет взаимодействовать с Dog API, которая позволит получать список пород собак, вводить несколько пород и получать их фотогрфии.\n",
        "\n",
        "Этапы:\n",
        "\n",
        "1. Создайте функцию, которая использует метод GET и возвращает список всех пород собак в формате нумерованного списка\n",
        "\n",
        "2. Реализуйте возможность ввода нескольких пород собак через запятую\n",
        "\n",
        "\n",
        "```\n",
        "african, chow, dingo\n",
        "```\n",
        "\n",
        "\n",
        "\n",
        "3. Создание функции, которая реализует запрос, возвращает и выводит изображениия собак, породы которых были введены до этого\n",
        "\n",
        "\n",
        "Используйте Dog API (https://dog.ceo/dog-api/), который предоставляет информацию о породах собак и их изображения.\n"
      ],
      "metadata": {
        "id": "y0EyPsFQ6mSZ"
      }
    },
    {
      "cell_type": "markdown",
      "source": [
        "*Подсказка*\n",
        "\n",
        "\n",
        "\n",
        "```\n",
        "import requests\n",
        "from PIL import Image\n",
        "from IPython.display import display\n",
        "import io\n",
        "\n",
        "url = <____>\n",
        "response = <____>\n",
        "        \n",
        "if response.<______> == <___>:\n",
        "      image_url = response.json()['message']\n",
        "\n",
        "res = requests.<__>(image_url)\n",
        "img = Image.open(io.BytesIO(res.content))\n",
        "display(img)\n",
        "```\n",
        "\n"
      ],
      "metadata": {
        "id": "yrKv5k13AKEP"
      }
    },
    {
      "cell_type": "code",
      "source": [],
      "metadata": {
        "id": "5xti3KRP4Kzp"
      },
      "execution_count": null,
      "outputs": []
    }
  ]
}