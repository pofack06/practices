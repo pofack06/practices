{
  "cells": [
    {
      "cell_type": "markdown",
      "metadata": {
        "id": "view-in-github",
        "colab_type": "text"
      },
      "source": [
        "<a href=\"https://colab.research.google.com/github/pofack06/practices/blob/main/%22%D0%9F%D1%80%D0%B0%D0%BA%D1%82%D0%B8%D0%BA%D0%B0_0_3_0.ipynb\" target=\"_parent\"><img src=\"https://colab.research.google.com/assets/colab-badge.svg\" alt=\"Open In Colab\"/></a>"
      ]
    },
    {
      "cell_type": "markdown",
      "metadata": {
        "id": "phMKaFq3DN13"
      },
      "source": [
        "ФИО"
      ]
    },
    {
      "cell_type": "code",
      "execution_count": null,
      "metadata": {
        "id": "3CWpaI7SDK8t"
      },
      "outputs": [],
      "source": [
        "Непеин Артемий Игоревич"
      ]
    },
    {
      "cell_type": "markdown",
      "metadata": {
        "id": "jyIy3GOgFOCe"
      },
      "source": [
        "**Во всей практике нельзя применять библиотеки предоставляющие готовые решения!**"
      ]
    },
    {
      "cell_type": "markdown",
      "metadata": {
        "id": "XizmlL1RK2t3"
      },
      "source": [
        "# **Задача 1.**\n"
      ]
    },
    {
      "cell_type": "markdown",
      "metadata": {
        "id": "p0v6KtHTFKSd"
      },
      "source": [
        "\n",
        "\n",
        "Типы данных Напишите программу на Python, которая принимает список чисел в качестве входных данных от пользователя, а затем выводит сумму, среднее значение и максимальное значение из списка.\n",
        "\n",
        "***Нельзя использовать: len(), min(), max(), average(), sum()***\n",
        "\n",
        "Дано:\n",
        "```\n",
        "1 2 3 4 5 6 7\n",
        "```\n",
        "Вывод:\n",
        "\n",
        "```\n",
        "Сумма чисел: 28\n",
        "Среднее арифм.: 4.0\n",
        "Максимальное значение: 7\n",
        "```\n",
        "\n"
      ]
    },
    {
      "cell_type": "code",
      "execution_count": null,
      "metadata": {
        "colab": {
          "base_uri": "https://localhost:8080/"
        },
        "id": "0e1Virl0FpF6",
        "outputId": "23e0de41-6091-453c-9088-59dc276bbe5b"
      },
      "outputs": [
        {
          "name": "stdout",
          "output_type": "stream",
          "text": [
            "28\n",
            "4.0\n",
            "7\n"
          ]
        }
      ],
      "source": [
        "sp = [1, 2, 3, 4, 5, 6, 7]\n",
        "summa = 0\n",
        "mx = -100000\n",
        "\n",
        "for h in sp:\n",
        "  summa += h\n",
        "print(summa)\n",
        "\n",
        "col=0\n",
        "for i in sp:\n",
        "  col += 1\n",
        "for j in sp:\n",
        "  if mx < j:\n",
        "    mx = j\n",
        "print(summa/col)\n",
        "print(mx)\n"
      ]
    },
    {
      "cell_type": "markdown",
      "metadata": {
        "id": "uFluc5OSK0NH"
      },
      "source": [
        "# **Задача 2.**"
      ]
    },
    {
      "cell_type": "markdown",
      "metadata": {
        "id": "6T8vg324GG4Z"
      },
      "source": [
        "\n",
        "Напишите программу на Python, которая принимает список слов в качестве входных данных от пользователя, а затем распечатывает список в обратном порядке.\n",
        "\n",
        "Ввод:\n",
        "\n",
        "```\n",
        "апельсин мандарин яблоко\n",
        "```\n",
        "\n",
        "Вывод:\n",
        "\n",
        "```\n",
        "яблоко мандарин апельсин\n",
        "```"
      ]
    },
    {
      "cell_type": "code",
      "execution_count": null,
      "metadata": {
        "colab": {
          "base_uri": "https://localhost:8080/"
        },
        "id": "v3AWj4ufGKox",
        "outputId": "08e3cefe-094e-4811-df0c-aaea5b3aac6b"
      },
      "outputs": [
        {
          "name": "stdout",
          "output_type": "stream",
          "text": [
            "['яблоко', 'мандарин', 'апельсин']\n"
          ]
        }
      ],
      "source": [
        "sp = [\"апельсин\", \"мандарин\", \"яблоко\"]\n",
        "sp2 = list()\n",
        "for i in range(2,-1,-1):\n",
        "  sp2.append(sp[i])\n",
        "print(sp2)"
      ]
    },
    {
      "cell_type": "markdown",
      "metadata": {
        "id": "D1KkCxtIKxRx"
      },
      "source": [
        "# **Задача 3**"
      ]
    },
    {
      "cell_type": "markdown",
      "metadata": {
        "id": "Yq8Jgb9yHvSi"
      },
      "source": [
        "Простой чат-бот\n",
        "Создайте простого чат-бота, который отвечает на основные запросы пользователей. Программа должна использовать условные выражения для определения намерений пользователя и последующего соответствующего ответа.\n",
        "\n",
        "Чат бот может:\n",
        "\n",
        "- помогать складывать числа\n",
        "- подсказывать фильм, музыку и тд (из заранее созданного списка)\n",
        "- создавать список дел (а также выводить его, обновлять, очищать)\n",
        "\n",
        "Интерфейс чат-бота на ваше усмотрение, это могут быть как заранее определенные команды, так и к примеру вызов команды по номеру\n",
        "\n",
        "*Реализовать без использования функций*\n",
        "\n",
        "Пример:\n",
        "\n",
        "Ввод:\n",
        "\n",
        "```\n",
        "Олег, какую мызыку посоветуешь?\n",
        "```\n",
        "\n",
        "Вывод:\n",
        "\n",
        "```\n",
        "Я бы посоветовал вам: Led Zeppelin Stairway to Heaven\n",
        "```"
      ]
    },
    {
      "cell_type": "code",
      "execution_count": null,
      "metadata": {
        "colab": {
          "base_uri": "https://localhost:8080/"
        },
        "id": "fmW-tmUtINN9",
        "outputId": "0587e070-cd8c-4fd9-b507-1185e8a8443e"
      },
      "outputs": [
        {
          "name": "stdout",
          "output_type": "stream",
          "text": [
            "Выбирите команду из списка:  \n",
            " Помочь сложить числа \n",
            " Подсказать фильм на вечер \n",
            " Создать список дел \n",
            "Создать список дел\n",
            "Сколько дел вы планируете сделать завтра?1\n",
            "Добавьте дело на завтра f\n",
            "Команды \n",
            "  Показать дела  \n",
            "   Удалить дело  \n",
            " Показать дела\n"
          ]
        }
      ],
      "source": [
        "import random\n",
        "zapros = input('Выбирите команду из списка:  \\n Помочь сложить числа \\n Подсказать фильм на вечер \\n Создать список дел \\n')\n",
        "if zapros == 'Помочь сложить числа':\n",
        "  n = int(input('Введите количество чисел, которые бы хотели сложить \\n'))\n",
        "  sp = []\n",
        "  if n < 2:\n",
        "    print('Малое количество')\n",
        "  for i in range(n):\n",
        "    ch = int(input('Введите число '))\n",
        "    sp.append(ch)\n",
        "  print(sum(sp))\n",
        "if zapros == 'Подсказать фильм на вечер':\n",
        "  sp = [\"«1+1» (18+)\",\"«Джуманджи: Зов джунглей» (18+)\",\"«Барби» (18+)\",\"«Вызов» (16+)\",\"«Страсти по Матвею» (18+)\",\"«Поехавшая» (16+)\",\"«Гуляй, Вася! » (18+)\",\"«Зеленая книга» (18+)\"]\n",
        "\n",
        "  print('Рекомендую посмотреть вам сегодня вечером - ', random.choise(sp))\n",
        "spd = []\n",
        "if zapros == 'Создать список дел':\n",
        "\n",
        "  zzz = int(input('Сколько дел вы планируете сделать завтра?'))\n",
        "  for i in range(zzz):\n",
        "    spd.append(input('Добавьте дело на завтра '))\n",
        "  zz = input('Команды \\n  Показать дела  \\n   Удалить дело  \\n ')\n",
        "  if zapros == 'Удалить дело':\n",
        "    spd.remove(input('Напишите какое дело хотели бы убрать: '))\n",
        "  if zapros == 'Показать дела':\n",
        "    print(spd)\n",
        "\n",
        "\n",
        "\n"
      ]
    },
    {
      "cell_type": "markdown",
      "metadata": {
        "id": "PHXBfyc6Ko7D"
      },
      "source": [
        "# **Задача 4.**\n"
      ]
    },
    {
      "cell_type": "markdown",
      "metadata": {
        "id": "jnKWeYleI0j6"
      },
      "source": [
        "Камень, ножницы, бумага\n",
        "\n",
        "Создайте игру в Камень, ножницы, бумагу, в которой пользователь может играть против компьютера. Программа должна запросить выбор пользователя, а затем сгенерировать выбор компьютера. Затем программа должна определить победителя на основе правил игры.\n",
        "\n",
        "**Этап 1:**\n",
        "\n",
        "Определение победителя\n",
        "\n",
        "**Этап 2:**\n",
        "  \n",
        "Игра до 3 побед\n",
        "\n",
        "\n",
        "Ввод для \"Этап 1\":\n",
        "\n",
        "```\n",
        "Камень\n",
        "```\n",
        "\n",
        "Вывод:\n",
        "\n",
        "```\n",
        "Компьютер: Ножницы\n",
        "Игрок: Камень\n",
        "Победа: Игрок\n",
        "```"
      ]
    },
    {
      "cell_type": "code",
      "execution_count": null,
      "metadata": {
        "colab": {
          "base_uri": "https://localhost:8080/"
        },
        "id": "ooIPCRe_JHkX",
        "outputId": "75fd2cf5-807e-4df4-d1b2-ca725070f12b"
      },
      "outputs": [
        {
          "name": "stdout",
          "output_type": "stream",
          "text": [
            "Выберите: Камень, Ножницы, Бумага Бумага\n",
            "Поражение\n",
            "Компьютер выбрал:  Ножницы\n",
            "Выберите: Камень, Ножницы, Бумага Бумага\n",
            "Ничья\n",
            "Компьютер выбрал:  Бумага\n",
            "Выберите: Камень, Ножницы, Бумага Бумага\n",
            "Поражение\n",
            "Компьютер выбрал:  Ножницы\n",
            "Выберите: Камень, Ножницы, Бумага Бумага\n",
            "Поражение\n",
            "Компьютер выбрал:  Ножницы\n",
            "Компьтер победил\n",
            "3 0\n"
          ]
        }
      ],
      "source": [
        "import random\n",
        "\n",
        "\n",
        "\n",
        "win_player = 0\n",
        "win = 0\n",
        "while win_player < 3 and win < 3:\n",
        "  otv = input('Выберите: Камень, Ножницы, Бумага ' )\n",
        "  spisok = ['Камень', 'Ножницы', 'Бумага']\n",
        "  hod_compa=random.choice(spisok)\n",
        "  if win < 3 and win_player < 3:\n",
        "    if hod_compa == \"Камень\" and otv == 'Бумага':\n",
        "      win_player+=1\n",
        "      print('Победа')\n",
        "    if hod_compa == \"Ножницы\" and otv == 'Камень':\n",
        "      print('Победа')\n",
        "      win_player+=1\n",
        "    if hod_compa == \"Бумага\" and otv == 'Ножницы':\n",
        "      print('Победа')\n",
        "      win_player+=1\n",
        "    if hod_compa == \"Бумага\" and otv == 'Камень':\n",
        "      print('Поражение')\n",
        "      win+=1\n",
        "    if hod_compa == \"Ножницы\" and otv == 'Бумага':\n",
        "      print('Поражение')\n",
        "      win+=1\n",
        "    if hod_compa == \"Камень\" and otv == 'Ножницы':\n",
        "      print('Поражение')\n",
        "      win+=1\n",
        "    if hod_compa == otv:\n",
        "      print('Ничья')\n",
        "    print('Компьютер выбрал: ', hod_compa)\n",
        "if win == 3:\n",
        "  print('Компьтер победил')\n",
        "  print(win, win_player)\n",
        "if win_player == 3:\n",
        "  print('Компьтер победил')\n",
        "  print(win, win_player)"
      ]
    },
    {
      "cell_type": "code",
      "execution_count": null,
      "metadata": {
        "id": "dE-P2C-hU7iR"
      },
      "outputs": [],
      "source": []
    },
    {
      "cell_type": "markdown",
      "metadata": {
        "id": "Hg4FJNFbLHQO"
      },
      "source": [
        "# **Задача 5.**"
      ]
    },
    {
      "cell_type": "markdown",
      "metadata": {
        "id": "OHqj3HJuLJgY"
      },
      "source": [
        "Создайте игру \"Палач\" или \"Виселица\", в которой пользователь должен угадать слово, предлагая буквы. Программа должна выбрать случайное слово, а затем разрешить пользователю угадывать буквы. После каждого угадывания программа должна сообщать пользователю, есть ли в слове буква или нет.\n",
        "\n",
        "**Этап 1**\n",
        "Создать саму игру\n",
        "\n",
        "**Этап 2:**\n",
        "Ввести подсчет количества очков и ограничения на попытки\n",
        "\n",
        "**Этап 3:** Добавить возможность сразу угадать слово"
      ]
    },
    {
      "cell_type": "code",
      "execution_count": null,
      "metadata": {
        "colab": {
          "background_save": true,
          "base_uri": "https://localhost:8080/"
        },
        "id": "0N2zCYwVLiIw",
        "outputId": "601e3e65-e4a5-46f4-f5fb-8fd97d00b885"
      },
      "outputs": [
        {
          "name": "stdout",
          "output_type": "stream",
          "text": [
            "0\n"
          ]
        }
      ],
      "source": [
        "import random\n",
        "\n",
        "\n",
        "\n",
        "def choose_word():\n",
        "    words = [\"питон\", \"программирование\", \"игра\", \"палач\", \"компьютер\"]\n",
        "    return random.choice(words)\n",
        "\n",
        "\n",
        "def display_word(word, guessed_letters):\n",
        "    return ''.join(letter if letter in guessed_letters else '_' for letter in word)\n",
        "\n",
        "\n",
        "def play_game():\n",
        "    word = choose_word()\n",
        "    guessed_letters = set()\n",
        "    attempts_left = 6\n",
        "    score = 0\n",
        "    print(\"Добро пожаловать в игру 'Палач'!\")\n",
        "\n",
        "    while attempts_left > 0:\n",
        "        print(f\"nСлово: {display_word(word, guessed_letters)}\")\n",
        "        print(f\"Осталось попыток: {attempts_left}\")\n",
        "        print(\"Угаданные буквы:\", ' '.join(sorted(guessed_letters)))\n",
        "\n",
        "        guess = input(\"Введите букву или слово для угадывания: \").lower()\n",
        "\n",
        "        if len(guess) == 1:  # Угадать букву\n",
        "            if guess in guessed_letters:\n",
        "                print(\"Вы уже угадали эту букву.\")\n",
        "            elif guess in word:\n",
        "                print(\"Правильно! Буква есть в слове.\")\n",
        "                guessed_letters.add(guess)\n",
        "                score += 1\n",
        "            else:\n",
        "                print(\"К сожалению, такой буквы нет.\")\n",
        "                guessed_letters.add(guess)\n",
        "                attempts_left -= 1\n",
        "        elif len(guess) == len(word):  # Угадать слово\n",
        "            if guess == word:\n",
        "                print(\"Поздравляем! Вы угадали слово!\")\n",
        "                score += 5\n",
        "                break\n",
        "            else:\n",
        "                print(\"Неправильно, это не то слово.\")\n",
        "                attempts_left -= 1\n",
        "        else:\n",
        "            print(\"Пожалуйста, введите одну букву или слово той же длины, что и загаданное.\")\n",
        "\n",
        "        if all(letter in guessed_letters for letter in word):\n",
        "            print(f\"Поздравляем! Вы угадали слово: {word}\")\n",
        "            score += 3\n",
        "            break\n",
        "\n",
        "    if attempts_left == 0:\n",
        "        print(f\"Игра окончена. Загаданное слово было: {word}.\")\n",
        "\n",
        "    print(f\"Ваш итоговый счет: {score}\")\n",
        "\n",
        "\n",
        "if __name__ == \"__main__\":\n",
        "    play_game()"
      ]
    },
    {
      "cell_type": "markdown",
      "metadata": {
        "id": "w0x3QFGzKtDD"
      },
      "source": [
        "# **Дополнительно: Задача 6.**\n"
      ]
    },
    {
      "cell_type": "markdown",
      "metadata": {
        "id": "QqZArcpHJxVj"
      },
      "source": [
        "\n",
        "**Цифра на определенном месте:**\n",
        "\n",
        "Последовательно записан натуральный ряд чисел.\n",
        "\n",
        "Какая цифра стоит в N позиции\n",
        "\n",
        "\n",
        "Вввод:\n",
        "\n",
        "```\n",
        "Введите номер позиции: 1234567890\n",
        "```\n",
        "\n",
        "Вывод:\n",
        "\n",
        "```\n",
        "8\n",
        "```"
      ]
    },
    {
      "cell_type": "code",
      "execution_count": null,
      "metadata": {
        "colab": {
          "base_uri": "https://localhost:8080/"
        },
        "id": "LwjYwBGcKiJ9",
        "outputId": "5fa182ad-3c9f-4b93-da83-893eab04944a"
      },
      "outputs": [
        {
          "output_type": "stream",
          "name": "stdout",
          "text": [
            "Введите N: 1326\n",
            "8\n"
          ]
        }
      ],
      "source": [
        "print(''.join(map(str,[i for i in range(1,1000000)]))[int(input('Введите N: '))-1])"
      ]
    }
  ],
  "metadata": {
    "colab": {
      "provenance": [],
      "include_colab_link": true
    },
    "kernelspec": {
      "display_name": "Python 3",
      "name": "python3"
    },
    "language_info": {
      "name": "python"
    }
  },
  "nbformat": 4,
  "nbformat_minor": 0
}