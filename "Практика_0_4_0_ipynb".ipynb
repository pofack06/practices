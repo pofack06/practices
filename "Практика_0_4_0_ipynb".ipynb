{
  "nbformat": 4,
  "nbformat_minor": 0,
  "metadata": {
    "colab": {
      "provenance": [],
      "include_colab_link": true
    },
    "kernelspec": {
      "name": "python3",
      "display_name": "Python 3"
    },
    "language_info": {
      "name": "python"
    }
  },
  "cells": [
    {
      "cell_type": "markdown",
      "metadata": {
        "id": "view-in-github",
        "colab_type": "text"
      },
      "source": [
        "<a href=\"https://colab.research.google.com/github/pofack06/practices/blob/main/%22%D0%9F%D1%80%D0%B0%D0%BA%D1%82%D0%B8%D0%BA%D0%B0_0_4_0_ipynb%22.ipynb\" target=\"_parent\"><img src=\"https://colab.research.google.com/assets/colab-badge.svg\" alt=\"Open In Colab\"/></a>"
      ]
    },
    {
      "cell_type": "markdown",
      "source": [
        "Введите ваше ФИО:"
      ],
      "metadata": {
        "id": "k8oVfdwrMXyc"
      }
    },
    {
      "cell_type": "code",
      "execution_count": null,
      "metadata": {
        "id": "5mcBLsKMI1-5"
      },
      "outputs": [],
      "source": [
        "Непеин Артемий Игоревич"
      ]
    },
    {
      "cell_type": "markdown",
      "source": [
        "***Дисклеймер***\n",
        "\n",
        "В данной практике запрещено использования функций:\n",
        "\n",
        "\n",
        "*   sum()\n",
        "*   min()\n",
        "*   max()\n",
        "*   average()\n",
        "*   reversed()\n",
        "*   sorted()\n",
        "*   готовые функции или библиотеки\n"
      ],
      "metadata": {
        "id": "8HbYUbm3Jw3o"
      }
    },
    {
      "cell_type": "markdown",
      "source": [
        "\n",
        "**Задача 1:**\n",
        "\n",
        "\n",
        "\n",
        "Интернет-магазин предлагает следующие условия скидок:\n",
        "\n",
        "*   Для заказов больше 1000 единиц, клиент получает скидку 5%. Если клиент использует промокод SUPERDISCOUNT, он получает скидку 10% (вместо 5%).\n",
        "*  Для заказов более 5000 единиц, клиент получает скидку 15%, а использование промокода SUPERDISCOUNT увеличивает скидку до 20% (вместо 15%).\n",
        "\n",
        "Этап 1:\n",
        "Ввод:\n",
        "```\n",
        "Введите стоимость единицы товара: 5\n",
        "Введите количество товара: 1001\n",
        "Введите промокод: GiVEMEDISCONT\n",
        "```\n",
        "\n",
        "Вывод:\n",
        "\n",
        "```\n",
        "Ваша скидка: 5%\n",
        "Итоговая сумма: 4754.75\n",
        "```\n",
        "Этап 2:\n",
        "\n",
        "Оформите ваш код в виде функции"
      ],
      "metadata": {
        "id": "HmX0c6YPJSQr"
      }
    },
    {
      "cell_type": "code",
      "source": [
        "i = int(input('Введите стоимость единицы товара: '))\n",
        "n = int(input('Введите количество товара: '))\n",
        "promo = input('Введите промокод: ')\n",
        "k = i*n\n",
        "if n > 1000:\n",
        "  if promo == 'SUPERDISCOUNT':\n",
        "    k -= (k*0.1)\n",
        "    print('Ваша скидка: 10% \\n', 'Итоговая сумма: ', k)\n",
        "  else:\n",
        "    k -= (k*0.05)\n",
        "    print('Ваша скидка: 5% \\n', 'Итоговая сумма: ', k)\n",
        "if n > 5000:\n",
        "  if promo == 'SUPERDISCOUNT':\n",
        "    k -= (k*0.2)\n",
        "    print('Ваша скидка: 20% \\n', 'Итоговая сумма: ', k)\n",
        "  else:\n",
        "    k -= (k*0.15)\n",
        "    print('Ваша скидка: 15% \\n', 'Итоговая сумма: ', k)\n",
        "if n <= 1000:\n",
        "  print('Ваша скидка: 0% \\n', 'Итоговая сумма: ', k)"
      ],
      "metadata": {
        "id": "OAIMIpklMN5D",
        "colab": {
          "base_uri": "https://localhost:8080/"
        },
        "outputId": "cf39e4f4-b2f8-4786-9dee-d47cef6e9de6"
      },
      "execution_count": null,
      "outputs": [
        {
          "output_type": "stream",
          "name": "stdout",
          "text": [
            "Введите стоимость единицы товара: 5\n",
            "Введите количество товара: 1001\n",
            "Введите промокод: GiVEMEDISCONT\n",
            "Ваша скидка: 5% \n",
            " Итоговая сумма:  4754.75\n",
            "Ваша скидка: 0% \n",
            " Итоговая сумма:  4754.75\n"
          ]
        }
      ]
    },
    {
      "cell_type": "markdown",
      "source": [
        "**Задача 2:**\n",
        "\n",
        "Этап 1:\n",
        "Напишите программу способную отфильтровать список и вывести только положительные элементы\n",
        "\n",
        "\n",
        "Ввод:\n",
        "```\n",
        "-1 5 1 2 -3\n",
        "```\n",
        "\n",
        "Вывод:\n",
        "\n",
        "```\n",
        "5 1 2\n",
        "```\n",
        "\n",
        "Этап 2:\n",
        "\n",
        "Оформите ваш код в виде функции"
      ],
      "metadata": {
        "id": "eeRVWpuLNGJ0"
      }
    },
    {
      "cell_type": "code",
      "source": [
        "n = int(input('Сколько хотите чисел? '))\n",
        "a = []\n",
        "for j in range(n):\n",
        "  k = int(input('Введите число: '))\n",
        "  a.append(k)\n",
        "sp = []\n",
        "for i in a:\n",
        "  if i > 0:\n",
        "    sp.append(i)\n",
        "print(sp)\n",
        "\n"
      ],
      "metadata": {
        "id": "Xbi6bL0WOE9N",
        "colab": {
          "base_uri": "https://localhost:8080/"
        },
        "outputId": "bc30c6b6-7854-46bc-e4b9-7f3fd2dbe660"
      },
      "execution_count": null,
      "outputs": [
        {
          "output_type": "stream",
          "name": "stdout",
          "text": [
            "Сколько хотите чисел? 5\n",
            "Введите числа1\n",
            "Введите числа-1\n",
            "Введите числа2\n",
            "Введите числа2\n",
            "Введите числа-20\n",
            "[1, 2, 2]\n"
          ]
        }
      ]
    },
    {
      "cell_type": "markdown",
      "source": [
        "**Задача 3:**\n",
        "\n",
        "Этап 1:\n",
        "Напишите программу реализующую Алгоритм Евклида\n",
        "\n",
        "\n",
        "> Алгоритм Евклида – это алгоритм нахождения наибольшего общего делителя (НОД) пары целых чисел.\n",
        "\n",
        "\n",
        "\n",
        "Ввод:\n",
        "```\n",
        "30 18\n",
        "```\n",
        "\n",
        "Вывод:\n",
        "\n",
        "```\n",
        "6\n",
        "```\n",
        "\n",
        "Этап 2:\n",
        "Оформите ваш код в виде функции\n"
      ],
      "metadata": {
        "id": "lV-w6G-POa6F"
      }
    },
    {
      "cell_type": "code",
      "source": [],
      "metadata": {
        "id": "X2n6fnd91yt7"
      },
      "execution_count": null,
      "outputs": []
    },
    {
      "cell_type": "code",
      "source": [
        "x = int(input(\"Введите первое положительное число: \"))\n",
        "y = int(input('Введите второе положительное число: '))\n",
        "def f(x, y):\n",
        "  if x < y:\n",
        "    for i in range(2, int(y**0.5)+1):\n",
        "      if x%i==0 and y%i==0:\n",
        "        return i\n",
        "  else:\n",
        "    for i in range(2, int(x**0.5)+1):\n",
        "      if x%i==0 and y%i==0:\n",
        "        return i\n",
        "print(f(x, y))"
      ],
      "metadata": {
        "id": "43Dl5tIpOZsu",
        "colab": {
          "base_uri": "https://localhost:8080/"
        },
        "outputId": "c883823f-b110-46e0-fdf9-1ac818c65e62"
      },
      "execution_count": null,
      "outputs": [
        {
          "output_type": "stream",
          "name": "stdout",
          "text": [
            "30\n",
            "30\n",
            "2\n"
          ]
        }
      ]
    },
    {
      "cell_type": "markdown",
      "source": [],
      "metadata": {
        "id": "Aa83ADofPcPZ"
      }
    },
    {
      "cell_type": "markdown",
      "source": [
        "**Задача 4:**\n",
        "\n",
        "Этап 1:\n",
        "Напишите функцию программу, которая принимает строку и возвращает список слов и количество их упомнинаний в предложении\n",
        "\n",
        "Этап 2:\n",
        "Оформите ваш код в виде функции\n",
        "\n",
        "Ввод:\n",
        "```\n",
        "apple banana apple\n",
        "```\n",
        "\n",
        "Вывод:\n",
        "\n",
        "```\n",
        "apple: 2,\n",
        "banana: 1\n",
        "```"
      ],
      "metadata": {
        "id": "WIfPFxpsO0zL"
      }
    },
    {
      "cell_type": "code",
      "source": [
        "sp = list()\n",
        "sp0 = list()\n",
        "kolvo = list()\n",
        "n = int(input('Сколько слов вы хотите ввести? '))\n",
        "\n",
        "\n",
        "for i in range(n):\n",
        "  word = input('Введите слово: ')\n",
        "  sp.append(word)\n",
        "  sp0 = list(set(sp))\n",
        "\n",
        "\n",
        "c = 0\n",
        "otvet = []\n",
        "for i in sp0:\n",
        "  if i in sp:\n",
        "    c+=1\n",
        "    otvet.append([i, c])\n",
        "print(otvet)"
      ],
      "metadata": {
        "id": "DgsmFeW5Po_x",
        "colab": {
          "base_uri": "https://localhost:8080/"
        },
        "outputId": "283aa815-a7e6-4f8f-f679-c37271b6ea92"
      },
      "execution_count": null,
      "outputs": [
        {
          "output_type": "stream",
          "name": "stdout",
          "text": [
            "Сколько слов вы хотите ввести? 3\n",
            "Введите слово: apple\n",
            "Введите слово: banana\n",
            "Введите слово: apple\n",
            "[['banana', 1], ['apple', 2]]\n"
          ]
        }
      ]
    },
    {
      "cell_type": "markdown",
      "source": [
        "**Задача 5:**\n",
        "\n",
        "Этап 1:\n",
        "Детектор анаграмм Напишите программу на Python, которая принимает в качестве входных данных две строки и проверяет, являются ли они анаграммами друг друга\n",
        "\n",
        "Этап 2:\n",
        "Оформите ваш код в виде функции\n",
        "\n",
        "Ввод:\n",
        "```\n",
        "listen, silent\n",
        "```\n",
        "\n",
        "Вывод:\n",
        "\n",
        "```\n",
        "True\n",
        "```"
      ],
      "metadata": {
        "id": "5BmIJLUZP9I-"
      }
    },
    {
      "cell_type": "code",
      "source": [
        "w1,w2 = input(), input()\n",
        "def f(w1, w2):\n",
        "    if set(w1) == set(w2):\n",
        "      return True\n",
        "    else:\n",
        "      return False\n",
        "print(w1, w2)\n"
      ],
      "metadata": {
        "id": "7LNW8DuHQJwH",
        "colab": {
          "base_uri": "https://localhost:8080/"
        },
        "outputId": "068230ca-5e5a-406c-e80a-ae4dcb187eaa"
      },
      "execution_count": null,
      "outputs": [
        {
          "output_type": "stream",
          "name": "stdout",
          "text": [
            "тор\n",
            "рот\n",
            "True\n"
          ]
        }
      ]
    },
    {
      "cell_type": "markdown",
      "source": [
        "**Задача 6:**\n",
        "\n",
        "Шифр ​​Цезаря\n",
        "\n",
        "Напишите программу на Python, которая реализует шифр Цезаря, простой метод шифрования, который заменяет каждую букву буквой на фиксированное количество позиций вниз по алфавиту. Программа должна запрашивать у пользователя сообщение и значение сдвига, а затем шифровать и расшифровывать сообщение.\n",
        "\n",
        "Этап 1:\n",
        "\n",
        "Напишите код для реализации данной задачи\n",
        "\n",
        "Этап 2:\n",
        "\n",
        "Оформите код в виде нескольких функций:\n",
        "\n",
        "* Зашифровывает сообщение\n",
        "* Расшифровывает сообщение"
      ],
      "metadata": {
        "id": "-SIWYSq2QKBh"
      }
    },
    {
      "cell_type": "code",
      "source": [
        "alf = 'АБВГДЕЁЖЗИЙКЛМНОПРСТУФХЦЧШЩЪЫЬЭЮЯ'\n",
        "n = input('Введите ваше сообщение: ')\n",
        "answer = ''\n",
        "\n",
        "\n",
        "def f(x, b):\n",
        "  c=-1\n",
        "  for h in x:\n",
        "    c+=1\n",
        "    if h == b:\n",
        "      return c\n",
        "\n",
        "\n",
        "for i in n:\n",
        "  mesto = f(alf, i)\n",
        "  new_mesto = mesto + 3\n",
        "  if i in alf:\n",
        "    answer += alf[new_mesto]\n",
        "  else:\n",
        "    answer += i\n",
        "print(answer)"
      ],
      "metadata": {
        "id": "anThYirsQe6N",
        "colab": {
          "base_uri": "https://localhost:8080/"
        },
        "outputId": "eaea6044-9a13-4054-9880-94f67572663f"
      },
      "execution_count": null,
      "outputs": [
        {
          "output_type": "stream",
          "name": "stdout",
          "text": [
            "Введите ваше сообщение: ПРИВЕТ\n",
            "ТУЛЕЗХ\n"
          ]
        }
      ]
    },
    {
      "cell_type": "markdown",
      "source": [
        "**Задача 7**\n",
        "\n",
        "Задача: «Банковская система»\n",
        "\n",
        "Создайте программу Python, которая имитирует базовую банковскую систему. Система должна иметь следующие функции:\n",
        "\n",
        "Требования\n",
        "*   Система должна позволять клиентам создавать счета и хранить их балансы.\n",
        "*   Система должна позволять клиентам вносить и снимать деньги со своих счетов.\n",
        "*   Система должна позволять клиентам проверять свой текущий баланс.\n",
        "*   Система должна позволять клиентам переводить деньги между счетами.\n",
        "*   Система должна отслеживать транзакции (депозиты, снятия и переводы) и иметь возможность печатать детали транзакций.\n",
        "\n",
        "\n",
        "Задачи\n",
        "1. Реализуйте банковскую систему, используя только базовые конструкции Python, такие как def, lists, if, elif и else, без классов или словарей.\n",
        "Определите функции для создания счетов, внесения и снятия денег, получения балансов счетов, перевода денег между счетами, а также создания и печати транзакций.\n",
        "2. Напишите основную функцию, которая демонстрирует использование банковской системы путем создания счетов, внесения и снятия денег и перевода денег между счетами.\n",
        "3. Бонусное задание\n",
        "Реализуйте способ хранения и печати истории транзакций для каждого счета.\n",
        "\n",
        "Ограничения\n",
        "Не используйте классы или словари.\n",
        "Используйте только базовые конструкции Python, такие как def, lists, if, elif и else.\n"
      ],
      "metadata": {
        "id": "avFZRRXrQz9O"
      }
    },
    {
      "cell_type": "code",
      "source": [
        "import random\n",
        "\n",
        "bank = []\n",
        "\n",
        "\n",
        "def create_client():\n",
        "    global bank\n",
        "    new_client = []\n",
        "    name = 'Иван'\n",
        "    for i in bank[l]:\n",
        "\n",
        "            client = [j + 1, 0]\n",
        "            new_client.append(f'{name}, {client}')\n",
        "            print(new_client)\n",
        "            print('1')\n",
        "\n",
        "\n",
        "create_client()\n",
        "\n"
      ],
      "metadata": {
        "id": "dWEW10zIRwjs"
      },
      "execution_count": null,
      "outputs": []
    }
  ]
}